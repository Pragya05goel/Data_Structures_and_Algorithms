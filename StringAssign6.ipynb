{
 "cells": [
  {
   "cell_type": "markdown",
   "id": "113c9eb8-049e-4e5a-bc6a-5861235791ea",
   "metadata": {},
   "source": [
    "# **ASSIGNMENT**"
   ]
  },
  {
   "cell_type": "markdown",
   "id": "c6157a36-a511-470d-958e-b21bca33d515",
   "metadata": {},
   "source": [
    "**Question 1**\n",
    "\n",
    "A permutation perm of n + 1 integers of all the integers in the range [0, n] can be represented as a string s of length n where:\n",
    "\n",
    "- s[i] == 'I' if perm[i] < perm[i + 1], and\n",
    "- s[i] == 'D' if perm[i] > perm[i + 1].\n",
    "\n",
    "Given a string s, reconstruct the permutation perm and return it. If there are multiple valid permutations perm, return **any of them**.\n",
    "\n",
    "**Example 1:**\n",
    "\n",
    "**Input:** s = \"IDID\"\n",
    "\n",
    "**Output:**\n",
    "\n",
    "[0,4,1,3,2]\n"
   ]
  },
  {
   "cell_type": "code",
   "execution_count": 1,
   "id": "db527f1a-9050-4575-9822-8a4f33eb94bd",
   "metadata": {},
   "outputs": [],
   "source": [
    "def str_to_array1(st):\n",
    "    n=len(st)\n",
    "    perm=[i for i in range(0,n+1)]\n",
    "    \n",
    "    for i in range(0,n):\n",
    "        if(st[i]==\"D\"):\n",
    "            m=len(perm)\n",
    "            k=perm[m-1]\n",
    "            j=m-1\n",
    "    \n",
    "            while(j>i):\n",
    "              perm[j]=perm[j-1]\n",
    "              j=j-1\n",
    "            perm[j]=k\n",
    "            \n",
    "       \n",
    "    return perm"
   ]
  },
  {
   "cell_type": "code",
   "execution_count": 2,
   "id": "c0c3a1d3-aa25-4e9e-90d4-50f2f41ba1a9",
   "metadata": {},
   "outputs": [
    {
     "data": {
      "text/plain": [
       "[0, 4, 1, 3, 2]"
      ]
     },
     "execution_count": 2,
     "metadata": {},
     "output_type": "execute_result"
    }
   ],
   "source": [
    "str_to_array1(\"IDID\")"
   ]
  },
  {
   "cell_type": "markdown",
   "id": "c81f0664-50ff-4be4-9393-8ee1bfe27982",
   "metadata": {},
   "source": [
    "**Question 2**\n",
    "\n",
    "You are given an m x n integer matrix matrix with the following two properties:\n",
    "\n",
    "- Each row is sorted in non-decreasing order.\n",
    "- The first integer of each row is greater than the last integer of the previous row.\n",
    "\n",
    "Given an integer target, return true *if* target *is in* matrix *or* false *otherwise*.\n",
    "\n",
    "You must write a solution in O(log(m * n)) time complexity.\n",
    "\n",
    "**Example 1:**\n",
    "\n",
    "**Input:** matrix = [[1,3,5,7],[10,11,16,20],[23,30,34,60]], target = 3\n",
    "\n",
    "**Output:** true\n"
   ]
  },
  {
   "cell_type": "code",
   "execution_count": 3,
   "id": "d85f7ff5-9196-4bac-bd8b-883fd5415a8e",
   "metadata": {},
   "outputs": [],
   "source": [
    "def binary_search_2d(mat,target):\n",
    "    low=0\n",
    "    m=len(mat)\n",
    "    n=len(mat[0])\n",
    "    high=(m*n)-1\n",
    "    \n",
    "    while(low<=high):\n",
    "        mid=low+(high-low)//2\n",
    "        row_index=mid//m\n",
    "        col_index=mid%m\n",
    "        \n",
    "        if(mat[row_index][col_index]==target):\n",
    "            return True\n",
    "        elif(mat[row_index][col_index]>target):\n",
    "            high=mid-1\n",
    "        else:\n",
    "            low=mid+1\n",
    "            \n",
    "    return False      "
   ]
  },
  {
   "cell_type": "code",
   "execution_count": 4,
   "id": "9d15d91b-daad-4ff0-9105-67614bc702f3",
   "metadata": {},
   "outputs": [
    {
     "data": {
      "text/plain": [
       "True"
      ]
     },
     "execution_count": 4,
     "metadata": {},
     "output_type": "execute_result"
    }
   ],
   "source": [
    "binary_search_2d([[1,3,5,7],[10,11,16,20],[23,30,34,60]], target = 3)"
   ]
  },
  {
   "cell_type": "markdown",
   "id": "c4a4effb-ad75-4707-a01c-95255a4b48e1",
   "metadata": {},
   "source": [
    "**Question 3**\n",
    "\n",
    "Given an array of integers arr, return *true if and only if it is a valid mountain array*.\n",
    "\n",
    "Recall that arr is a mountain array if and only if:\n",
    "\n",
    "- arr.length >= 3\n",
    "- There exists some i with 0 < i < arr.length - 1 such that:\n",
    "    - arr[0] < arr[1] < ... < arr[i - 1] < arr[i]\n",
    "    - arr[i] > arr[i + 1] > ... > arr[arr.length - 1]\n",
    "\n",
    "**Example 1:**\n",
    "\n",
    "**Input:** arr = [2,1]\n",
    "\n",
    "**Output:**\n",
    "\n",
    "false\n",
    "\n"
   ]
  },
  {
   "cell_type": "code",
   "execution_count": 5,
   "id": "930d333a-1a92-459c-9c72-f3d973a29072",
   "metadata": {},
   "outputs": [],
   "source": [
    "def mountain_array(arr):\n",
    "    n=len(arr)\n",
    "    if(n<3):\n",
    "        return \"false\"\n",
    "    else:\n",
    "        for i in range(0,n):\n",
    "            if(arr[i]<arr[i+1]):\n",
    "                continue\n",
    "            else:\n",
    "                k=i\n",
    "                break\n",
    "        for j in range(k,n):\n",
    "            if(arr[k]>arr[k+1]):\n",
    "                continue\n",
    "            else:\n",
    "                return \"false\"\n",
    "    return \"true\"        "
   ]
  },
  {
   "cell_type": "code",
   "execution_count": 6,
   "id": "521e7fb4-d2f1-4e88-9911-07b4e65b7e84",
   "metadata": {},
   "outputs": [
    {
     "data": {
      "text/plain": [
       "'false'"
      ]
     },
     "execution_count": 6,
     "metadata": {},
     "output_type": "execute_result"
    }
   ],
   "source": [
    "mountain_array([2,1])"
   ]
  },
  {
   "cell_type": "markdown",
   "id": "638db459-2f03-4f0c-81fa-28c968f3252b",
   "metadata": {},
   "source": [
    "**Question 4**\n",
    "\n",
    "Given a binary array nums, return *the maximum length of a contiguous subarray with an equal number of* 0 *and* 1.\n",
    "\n",
    "**Example 1:**\n",
    "\n",
    "**Input:** nums = [0,1]\n",
    "\n",
    "**Output:** 2\n",
    "\n",
    "**Explanation:**\n",
    "\n",
    "[0, 1] is the longest contiguous subarray with an equal number of 0 and 1.\n"
   ]
  },
  {
   "cell_type": "code",
   "execution_count": 7,
   "id": "c7809d0d-5704-4a4d-ab23-20910979e4bd",
   "metadata": {},
   "outputs": [],
   "source": [
    "def find_max_length(nums):\n",
    "    max_length = 0\n",
    "    count = 0\n",
    "    count_dict = {0: -1} \n",
    "    \n",
    "    for i, num in enumerate(nums):\n",
    "        if num == 0:\n",
    "            count -= 1\n",
    "        else:\n",
    "            count += 1\n",
    "            \n",
    "        if count in count_dict:\n",
    "            max_length = max(max_length, i - count_dict[count])\n",
    "        else:\n",
    "            count_dict[count] = i\n",
    "            \n",
    "    return max_length\n"
   ]
  },
  {
   "cell_type": "code",
   "execution_count": 8,
   "id": "02cd49bf-494a-4fcb-9cb0-f3ff390df0f2",
   "metadata": {},
   "outputs": [
    {
     "data": {
      "text/plain": [
       "2"
      ]
     },
     "execution_count": 8,
     "metadata": {},
     "output_type": "execute_result"
    }
   ],
   "source": [
    "find_max_length([0,1])"
   ]
  },
  {
   "cell_type": "markdown",
   "id": "ebd835d0-dae6-4b96-ad24-982f2925033d",
   "metadata": {},
   "source": [
    "**Question 5**\n",
    "\n",
    "The **product sum** of two equal-length arrays a and b is equal to the sum of a[i] * b[i] for all 0 <= i < a.length (**0-indexed**).\n",
    "\n",
    "- For example, if a = [1,2,3,4] and b = [5,2,3,1], the **product sum** would be 1X5 + 2X2 + 3X3 + 4X1 = 22.\n",
    "\n",
    "Given two arrays nums1 and nums2 of length n, return *the **minimum product sum** if you are allowed to **rearrange** the **order** of the elements in* nums1.\n",
    "\n",
    "**Example 1:**\n",
    "\n",
    "**Input:** nums1 = [5,3,4,2], nums2 = [4,2,2,5]\n",
    "\n",
    "**Output:** 40\n",
    "\n",
    "**Explanation:**\n",
    "\n",
    "We can rearrange nums1 to become [3,5,4,2]. The product sum of [3,5,4,2] and [4,2,2,5] is 3*4 + 5*2 + 4*2 + 2*5 = 40.\n"
   ]
  },
  {
   "cell_type": "code",
   "execution_count": 9,
   "id": "495c8c1a-4c1d-49bf-8c2e-82920589a811",
   "metadata": {},
   "outputs": [],
   "source": [
    "def min_product_sum(nums1, nums2):\n",
    "    nums1.sort()\n",
    "    nums2.sort(reverse=True)\n",
    "    \n",
    "    min_product_sum = 0\n",
    "    for num1, num2 in zip(nums1, nums2):\n",
    "        min_product_sum += num1 * num2\n",
    "    \n",
    "    return min_product_sum\n"
   ]
  },
  {
   "cell_type": "code",
   "execution_count": 10,
   "id": "fa47575c-7e3b-45e6-a148-c2a0dea12cae",
   "metadata": {},
   "outputs": [
    {
     "data": {
      "text/plain": [
       "40"
      ]
     },
     "execution_count": 10,
     "metadata": {},
     "output_type": "execute_result"
    }
   ],
   "source": [
    "min_product_sum([5,3,4,2],[4,2,2,5])"
   ]
  },
  {
   "cell_type": "markdown",
   "id": "b44601bd-d2fc-4434-8a2a-b5445241919a",
   "metadata": {},
   "source": [
    "**Question 6**\n",
    "\n",
    "An integer array original is transformed into a **doubled** array changed by appending **twice the value** of every element in original, and then randomly **shuffling** the resulting array.\n",
    "\n",
    "Given an array changed, return original *if* changed *is a **doubled** array. If* changed *is not a **doubled** array, return an empty array. The elements in* original *may be returned in **any** order*.\n",
    "\n",
    "**Example 1:**\n",
    "\n",
    "**Input:** changed = [1,3,4,2,6,8]\n",
    "\n",
    "**Output:** [1,3,4]\n",
    "\n",
    "**Explanation:** One possible original array could be [1,3,4]:\n",
    "\n",
    "- Twice the value of 1 is 1 * 2 = 2.\n",
    "- Twice the value of 3 is 3 * 2 = 6.\n",
    "- Twice the value of 4 is 4 * 2 = 8.\n",
    "\n",
    "Other original arrays could be [4,3,1] or [3,1,4].\n"
   ]
  },
  {
   "cell_type": "code",
   "execution_count": 11,
   "id": "c54eb4c2-5add-47ad-9678-c2e96e5587bc",
   "metadata": {},
   "outputs": [],
   "source": [
    "def findOriginal(arr):\n",
    "\tnumFreq = {}\n",
    "\tfor i in range(0, len(arr)):\n",
    "\t\tif (arr[i] in numFreq):\n",
    "\t\t\tnumFreq[arr[i]] += 1\n",
    "\t\telse:\n",
    "\t\t\tnumFreq[arr[i]] = 1\n",
    "\n",
    "\tarr.sort()\n",
    "\tres = []\n",
    "\n",
    "\tfor i in range(0, len(arr)):\n",
    "\n",
    "\t\tfreq = numFreq[arr[i]]\n",
    "\t\tif (freq > 0):\n",
    "\n",
    "\t\t\tres.append(arr[i])\n",
    "\n",
    "\t\t\tnumFreq[arr[i]] -= 1\n",
    "\n",
    "\t\t\ttwice = 2 * arr[i]\n",
    "\n",
    "\t\t\tnumFreq[twice] -= 1\n",
    "\n",
    "\n",
    "\treturn res"
   ]
  },
  {
   "cell_type": "code",
   "execution_count": 12,
   "id": "4b29e5f8-1843-4c78-b94e-322f6e76840f",
   "metadata": {},
   "outputs": [
    {
     "data": {
      "text/plain": [
       "[1, 3, 4]"
      ]
     },
     "execution_count": 12,
     "metadata": {},
     "output_type": "execute_result"
    }
   ],
   "source": [
    "findOriginal( [1,3,4,2,6,8])"
   ]
  },
  {
   "cell_type": "markdown",
   "id": "dcc32e17-1270-404f-8b8a-0cecd951b23f",
   "metadata": {},
   "source": [
    "**Question 7**\n",
    "\n",
    "Given a positive integer n, generate an n x n matrix filled with elements from 1 to n2 in spiral order.\n",
    "\n",
    "**Example 1:**\n",
    "\n",
    "**Input:** n = 3\n",
    "\n",
    "**Output:** [[1,2,3],[8,9,4],[7,6,5]]"
   ]
  },
  {
   "cell_type": "code",
   "execution_count": 13,
   "id": "d6421582-0dcd-4ff0-9c0a-08645488b541",
   "metadata": {},
   "outputs": [],
   "source": [
    "def generate_spiral_matrix(n):\n",
    "    matrix = [[0] * n for _ in range(n)]  # Create an empty matrix\n",
    "    \n",
    "    # Define the boundaries of the matrix\n",
    "    top = 0\n",
    "    bottom = n - 1\n",
    "    left = 0\n",
    "    right = n - 1\n",
    "    \n",
    "    num = 1  # Starting number\n",
    "    \n",
    "    while top <= bottom and left <= right:\n",
    "        # Traverse the top row\n",
    "        for i in range(left, right + 1):\n",
    "            matrix[top][i] = num\n",
    "            num += 1\n",
    "        top += 1\n",
    "        \n",
    "        # Traverse the right column\n",
    "        for i in range(top, bottom + 1):\n",
    "            matrix[i][right] = num\n",
    "            num += 1\n",
    "        right -= 1\n",
    "        \n",
    "        # Traverse the bottom row\n",
    "        if top <= bottom:\n",
    "            for i in range(right, left - 1, -1):\n",
    "                matrix[bottom][i] = num\n",
    "                num += 1\n",
    "            bottom -= 1\n",
    "        \n",
    "        # Traverse the left column\n",
    "        if left <= right:\n",
    "            for i in range(bottom, top - 1, -1):\n",
    "                matrix[i][left] = num\n",
    "                num += 1\n",
    "            left += 1\n",
    "    \n",
    "    return matrix\n"
   ]
  },
  {
   "cell_type": "code",
   "execution_count": 14,
   "id": "2d6a32f8-1c1e-4940-8d11-4d1306e5c6b9",
   "metadata": {},
   "outputs": [
    {
     "data": {
      "text/plain": [
       "[[1, 2, 3], [8, 9, 4], [7, 6, 5]]"
      ]
     },
     "execution_count": 14,
     "metadata": {},
     "output_type": "execute_result"
    }
   ],
   "source": [
    "generate_spiral_matrix(3)"
   ]
  },
  {
   "cell_type": "markdown",
   "id": "b830a9d4-2f05-4e75-8ae1-687d2e050c5d",
   "metadata": {},
   "source": [
    "**Question 8**\n",
    "\n",
    "Given two [sparse matrices](https://en.wikipedia.org/wiki/Sparse_matrix) mat1 of size m x k and mat2 of size k x n, return the result of mat1 x mat2. You may assume that multiplication is always possible.\n",
    "\n",
    "**Example 1:**\n",
    "\n",
    "**Output:**\n",
    "\n",
    "[[7,0,0],[-7,0,3]]\n"
   ]
  },
  {
   "cell_type": "code",
   "execution_count": 15,
   "id": "ceff96a9-6d42-40c4-aaad-762c6de30c36",
   "metadata": {},
   "outputs": [],
   "source": [
    "import numpy as np\n",
    "def matrix_multiplication(mat1,mat2):\n",
    "    m=len(mat1)\n",
    "    k=len(mat1[0])\n",
    "    n=len(mat2[0])\n",
    "    mat3=np.zeros((m,n))\n",
    "    for i in range(0,m):\n",
    "        for j in range(0,n):\n",
    "            s=0\n",
    "            for p in range(0,k):\n",
    "                mat3[i][j]+= mat1[i][p]*mat2[p][j]\n",
    "                \n",
    "                \n",
    "    return mat3           "
   ]
  },
  {
   "cell_type": "code",
   "execution_count": 16,
   "id": "9af229e2-fdd6-4048-94ce-a9f340af5fa2",
   "metadata": {},
   "outputs": [
    {
     "data": {
      "text/plain": [
       "array([[ 7.,  0.,  0.],\n",
       "       [-7.,  0.,  3.]])"
      ]
     },
     "execution_count": 16,
     "metadata": {},
     "output_type": "execute_result"
    }
   ],
   "source": [
    "matrix_multiplication([[1,0,0],[-1,0,3]],[[7,0,0],[0,0,0],[0,0,1]])"
   ]
  },
  {
   "cell_type": "code",
   "execution_count": 17,
   "id": "13cbb52b-ab97-4384-b63c-e91fe551aa66",
   "metadata": {},
   "outputs": [
    {
     "data": {
      "text/plain": [
       "array([[0., 3.],\n",
       "       [0., 0.]])"
      ]
     },
     "execution_count": 17,
     "metadata": {},
     "output_type": "execute_result"
    }
   ],
   "source": [
    "matrix_multiplication([[1,2],[0,0]],[[0,1],[0,1]])"
   ]
  },
  {
   "cell_type": "markdown",
   "id": "39ece561-9a0a-457d-93c5-0569013dd174",
   "metadata": {},
   "source": [
    "-----------------------------"
   ]
  },
  {
   "cell_type": "code",
   "execution_count": null,
   "id": "2fbf3869-0f76-469b-a34a-8f36111a0d47",
   "metadata": {},
   "outputs": [],
   "source": []
  }
 ],
 "metadata": {
  "kernelspec": {
   "display_name": "Python 3 (ipykernel)",
   "language": "python",
   "name": "python3"
  },
  "language_info": {
   "codemirror_mode": {
    "name": "ipython",
    "version": 3
   },
   "file_extension": ".py",
   "mimetype": "text/x-python",
   "name": "python",
   "nbconvert_exporter": "python",
   "pygments_lexer": "ipython3",
   "version": "3.10.8"
  }
 },
 "nbformat": 4,
 "nbformat_minor": 5
}
