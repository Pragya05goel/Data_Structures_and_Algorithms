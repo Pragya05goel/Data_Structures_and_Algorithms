{
 "cells": [
  {
   "cell_type": "markdown",
   "id": "3bf0f1f5-3ca3-4a83-9648-fb985c5b7f3e",
   "metadata": {},
   "source": [
    "# **ASSIGNMENT**"
   ]
  },
  {
   "cell_type": "markdown",
   "id": "9690f547-1702-4521-9b14-20fbdd1a6931",
   "metadata": {},
   "source": [
    "**Question 1**\n",
    "Given an integer array nums of length n and an integer target, find three integers\n",
    "in nums such that the sum is closest to the target.\n",
    "Return the sum of the three integers.\n",
    "\n",
    "You may assume that each input would have exactly one solution.\n",
    "\n",
    "**Example 1:**\n",
    "Input: nums = [-1,2,1,-4], target = 1\n",
    "Output: 2\n",
    "\n",
    "Explanation: The sum that is closest to the target is 2. (-1 + 2 + 1 = 2)."
   ]
  },
  {
   "cell_type": "code",
   "execution_count": 1,
   "id": "4d9bf14d-fee4-49e9-9750-68944076085f",
   "metadata": {},
   "outputs": [],
   "source": [
    "def sum_close_to_target(arr,target):\n",
    "    n=len(arr)\n",
    "    \n",
    "    sum_obs=0\n",
    "    closest_sum=float(\"inf\")\n",
    "    for i in range(0,n):\n",
    "        for j in range(i+1,n):\n",
    "            for k in range(j+1,n):\n",
    "                sum_obs=arr[i]+arr[j]+arr[k]\n",
    "                if(abs(sum_obs-target)<abs(closest_sum-target)):\n",
    "                    closest_sum=sum_obs\n",
    "                    \n",
    "                    \n",
    "    return closest_sum "
   ]
  },
  {
   "cell_type": "code",
   "execution_count": 2,
   "id": "556599b3-b5ac-4c45-9d80-73fabebef45d",
   "metadata": {},
   "outputs": [
    {
     "data": {
      "text/plain": [
       "2"
      ]
     },
     "execution_count": 2,
     "metadata": {},
     "output_type": "execute_result"
    }
   ],
   "source": [
    "sum_close_to_target([-1,2,1,-4],2)"
   ]
  },
  {
   "cell_type": "markdown",
   "id": "8bf1bcac-7d22-4071-869f-dc9120b976c1",
   "metadata": {},
   "source": [
    "**Question 2**\n",
    "Given an array nums of n integers, return an array of all the unique quadruplets\n",
    "[nums[a], nums[b], nums[c], nums[d]] such that:\n",
    "           ● 0 <= a, b, c, d < n\n",
    "           ● a, b, c, and d are distinct.\n",
    "           ● nums[a] + nums[b] + nums[c] + nums[d] == target\n",
    "\n",
    "You may return the answer in any order.\n",
    "\n",
    "**Example 1:**\n",
    "Input: nums = [1,0,-1,0,-2,2], target = 0\n",
    "Output: [[-2,-1,1,2],[-2,0,0,2],[-1,0,0,1]]"
   ]
  },
  {
   "cell_type": "code",
   "execution_count": 3,
   "id": "c8d736ab-33ab-4a00-a434-daa3209f17a1",
   "metadata": {},
   "outputs": [],
   "source": [
    "def sum_target(arr,target):\n",
    "    n=len(arr)\n",
    "    lst=[]\n",
    "    \n",
    "    for i in range(0,n):\n",
    "        for j in range(i+1,n):\n",
    "            for k in range(j+1,n):\n",
    "                for l in range(k+1,n):\n",
    "                    sum_obs=arr[i]+arr[j]+arr[k]+arr[l]\n",
    "                    if(sum_obs==target):\n",
    "                        quad=[arr[i],arr[j],arr[k],arr[l]]\n",
    "                        if quad not in lst:\n",
    "                            lst.append(quad)\n",
    "\n",
    "            \n",
    "    return lst"
   ]
  },
  {
   "cell_type": "code",
   "execution_count": 4,
   "id": "940cc23a-b89b-47eb-b6b6-904d4d507a73",
   "metadata": {},
   "outputs": [
    {
     "data": {
      "text/plain": [
       "[[1, 0, -1, 0], [1, -1, -2, 2], [0, 0, -2, 2]]"
      ]
     },
     "execution_count": 4,
     "metadata": {},
     "output_type": "execute_result"
    }
   ],
   "source": [
    "sum_target( [1,0,-1,0,-2,2], 0)"
   ]
  },
  {
   "cell_type": "markdown",
   "id": "6c60f926-a9e0-4247-8980-9db1af8f4d39",
   "metadata": {},
   "source": [
    "**Question 3**\n",
    "A permutation of an array of integers is an arrangement of its members into a\n",
    "sequence or linear order.\n",
    "\n",
    "For example, for arr = [1,2,3], the following are all the permutations of arr:\n",
    "[1,2,3], [1,3,2], [2, 1, 3], [2, 3, 1], [3,1,2], [3,2,1].\n",
    "\n",
    "The next permutation of an array of integers is the next lexicographically greater\n",
    "permutation of its integer. More formally, if all the permutations of the array are\n",
    "sorted in one container according to their lexicographical order, then the next\n",
    "permutation of that array is the permutation that follows it in the sorted container.\n",
    "\n",
    "If such an arrangement is not possible, the array must be rearranged as the\n",
    "lowest possible order (i.e., sorted in ascending order).\n",
    "\n",
    "● For example, the next permutation of arr = [1,2,3] is [1,3,2].\n",
    "● Similarly, the next permutation of arr = [2,3,1] is [3,1,2].\n",
    "● While the next permutation of arr = [3,2,1] is [1,2,3] because [3,2,1] does not\n",
    "have a lexicographical larger rearrangement.\n",
    "\n",
    "Given an array of integers nums, find the next permutation of nums.\n",
    "The replacement must be in place and use only constant extra memory.\n",
    "\n",
    "**Example 1:**\n",
    "Input: nums = [1,2,3]\n",
    "Output: [1,3,2]"
   ]
  },
  {
   "cell_type": "code",
   "execution_count": 5,
   "id": "2f678f86-1423-407c-89bc-96edbaa831b9",
   "metadata": {},
   "outputs": [],
   "source": [
    "def nextPermutation(nums):\n",
    "    n = len(nums)\n",
    "    i = n - 2\n",
    "    \n",
    "    # Find the first decreasing element from the right\n",
    "    while i >= 0 and nums[i] >= nums[i+1]:\n",
    "        i -= 1\n",
    "    \n",
    "    if i >= 0:\n",
    "        j = n - 1\n",
    "        # Find the smallest element greater than nums[i]\n",
    "        while j >= 0 and nums[i] >= nums[j]:\n",
    "            j -= 1\n",
    "        # Swap nums[i] and nums[j]\n",
    "        nums[i], nums[j] = nums[j], nums[i]\n",
    "    \n",
    "    # Reverse the elements from i+1 to the end\n",
    "    left = i + 1\n",
    "    right = n - 1\n",
    "    while left < right:\n",
    "        nums[left], nums[right] = nums[right], nums[left]\n",
    "        left += 1\n",
    "        right -= 1\n",
    "    \n",
    "    return nums"
   ]
  },
  {
   "cell_type": "code",
   "execution_count": 6,
   "id": "1abb17ca-8095-4f77-93bb-789a1dced8b5",
   "metadata": {},
   "outputs": [
    {
     "data": {
      "text/plain": [
       "[1, 2, 3]"
      ]
     },
     "execution_count": 6,
     "metadata": {},
     "output_type": "execute_result"
    }
   ],
   "source": [
    "nextPermutation( [3,2,1])"
   ]
  },
  {
   "cell_type": "markdown",
   "id": "9b3589fb-aced-4dfb-a5a4-5aa10f653fb7",
   "metadata": {},
   "source": [
    "**Question 4**\n",
    "Given a sorted array of distinct integers and a target value, return the index if the\n",
    "target is found. If not, return the index where it would be if it were inserted in\n",
    "order.\n",
    "\n",
    "You must write an algorithm with O(log n) runtime complexity.\n",
    "\n",
    "**Example 1:**\n",
    "Input: nums = [1,3,5,6], target = 5\n",
    "Output: 2"
   ]
  },
  {
   "cell_type": "code",
   "execution_count": 7,
   "id": "4d2a5bf6-d86f-43bc-a06f-ed0cd48ce30b",
   "metadata": {},
   "outputs": [],
   "source": [
    "def binary_search(arr,target):\n",
    "    lo=0\n",
    "    hi=len(arr)-1\n",
    "    \n",
    "    while(lo<=hi):\n",
    "        mid=(lo+hi)//2\n",
    "        \n",
    "        if(arr[mid]==target):\n",
    "            return mid\n",
    "        elif(arr[mid]<target):\n",
    "            lo=mid+1\n",
    "        else:\n",
    "            hi=mid-1\n",
    "        \n",
    "    return lo "
   ]
  },
  {
   "cell_type": "code",
   "execution_count": 8,
   "id": "2b96fa59-fc7d-4232-86d2-3356fe5abba3",
   "metadata": {},
   "outputs": [
    {
     "data": {
      "text/plain": [
       "2"
      ]
     },
     "execution_count": 8,
     "metadata": {},
     "output_type": "execute_result"
    }
   ],
   "source": [
    "binary_search([1,3,5,6],5)"
   ]
  },
  {
   "cell_type": "markdown",
   "id": "0c1f31c5-a97c-4365-ae1a-d154614846a2",
   "metadata": {},
   "source": [
    "**Question 5**\n",
    "You are given a large integer represented as an integer array digits, where each\n",
    "digits[i] is the ith digit of the integer. The digits are ordered from most significant\n",
    "to least significant in left-to-right order. The large integer does not contain any\n",
    "leading 0's.\n",
    "\n",
    "Increment the large integer by one and return the resulting array of digits.\n",
    "\n",
    "**Example 1:**\n",
    "Input: digits = [1,2,3]\n",
    "Output: [1,2,4]\n",
    "\n",
    "**Explanation:** The array represents the integer 123.\n",
    "Incrementing by one gives 123 + 1 = 124.\n",
    "Thus, the result should be [1,2,4]."
   ]
  },
  {
   "cell_type": "code",
   "execution_count": 9,
   "id": "5a43c309-a0d0-461e-af3c-31b39be39958",
   "metadata": {},
   "outputs": [],
   "source": [
    "import math\n",
    "def large_num(arr):\n",
    "    sum_no=0\n",
    "    j=len(arr)-1\n",
    "    \n",
    "    for i in arr:\n",
    "        sum_no=sum_no+i*math.pow(10,j)\n",
    "        j=j-1\n",
    "    \n",
    "    new_no=int(sum_no+1)\n",
    "    lst=[]\n",
    "    while(new_no>0):\n",
    "        rem=new_no%10\n",
    "        lst.append(rem)\n",
    "        new_no=math.trunc(new_no/10)\n",
    "    lst.reverse()\n",
    "    \n",
    "    return lst"
   ]
  },
  {
   "cell_type": "code",
   "execution_count": 10,
   "id": "1f1f6c7f-47b6-477a-a48e-7ae3fcc04932",
   "metadata": {},
   "outputs": [
    {
     "data": {
      "text/plain": [
       "[1, 2, 4]"
      ]
     },
     "execution_count": 10,
     "metadata": {},
     "output_type": "execute_result"
    }
   ],
   "source": [
    "large_num([1,2,3])"
   ]
  },
  {
   "cell_type": "markdown",
   "id": "884b8f2b-dfb6-4df1-b703-79e323ffe357",
   "metadata": {},
   "source": [
    "**Question 6**\n",
    "Given a non-empty array of integers nums, every element appears twice except\n",
    "for one. Find that single one.\n",
    "\n",
    "You must implement a solution with a linear runtime complexity and use only\n",
    "constant extra space.\n",
    "\n",
    "**Example 1:**\n",
    "Input: nums = [2,2,1]\n",
    "Output: 1"
   ]
  },
  {
   "cell_type": "code",
   "execution_count": 11,
   "id": "e8fc5e82-46a4-4db2-9b57-46e60758406e",
   "metadata": {},
   "outputs": [],
   "source": [
    "def single_element(arr):\n",
    "    n=len(arr)\n",
    "    \n",
    "    for i in range(0,n):\n",
    "        if(arr.count(arr[i])==1):\n",
    "            return arr[i]"
   ]
  },
  {
   "cell_type": "code",
   "execution_count": 12,
   "id": "705c74fd-1f2d-4c14-85d7-79e6dc5c26ab",
   "metadata": {},
   "outputs": [
    {
     "data": {
      "text/plain": [
       "1"
      ]
     },
     "execution_count": 12,
     "metadata": {},
     "output_type": "execute_result"
    }
   ],
   "source": [
    "single_element([2,2,1,0,0,4,4])"
   ]
  },
  {
   "cell_type": "markdown",
   "id": "01dc5f75-1479-4298-b08e-15ba06ef1ebc",
   "metadata": {},
   "source": [
    "**Question 7**\n",
    "You are given an inclusive range [lower, upper] and a sorted unique integer array\n",
    "nums, where all elements are within the inclusive range.\n",
    "\n",
    "A number x is considered missing if x is in the range [lower, upper] and x is not in\n",
    "nums.\n",
    "\n",
    "Return the shortest sorted list of ranges that exactly covers all the missing\n",
    "numbers. That is, no element of nums is included in any of the ranges, and each\n",
    "missing number is covered by one of the ranges.\n",
    "\n",
    "**Example 1:**\n",
    "Input: nums = [0,1,3,50,75], lower = 0, upper = 99\n",
    "Output: [[2,2],[4,49],[51,74],[76,99]]\n",
    "\n",
    "**Explanation:** The ranges are:\n",
    "[2,2]\n",
    "[4,49]\n",
    "[51,74]\n",
    "[76,99]"
   ]
  },
  {
   "cell_type": "code",
   "execution_count": 13,
   "id": "cadd467b-c768-4f64-860a-34429d9a3ec1",
   "metadata": {},
   "outputs": [],
   "source": [
    "def lst_append(arr,low,upp):\n",
    "    k=0\n",
    "    i=0\n",
    "    lst=[]\n",
    "    while(i<len(arr)):\n",
    "        if(arr[i]==low+k):\n",
    "            i=i+1\n",
    "        else:\n",
    "            lst.append(k) \n",
    "        k=k+1\n",
    "   \n",
    "    intervals = []\n",
    "    start = lst[0]\n",
    "    end = start\n",
    "    \n",
    "    for number in lst[1:]:\n",
    "        if number == end + 1:\n",
    "            end = number\n",
    "        else:\n",
    "            intervals.append([start,end])\n",
    "            start = number\n",
    "            end = number\n",
    "    intervals.append([start,end])    \n",
    "    intervals.append([arr[-1]+1,upp])    \n",
    "    return intervals"
   ]
  },
  {
   "cell_type": "code",
   "execution_count": 14,
   "id": "1e56d4ea-f55d-4561-842f-23bf1ec72744",
   "metadata": {},
   "outputs": [
    {
     "data": {
      "text/plain": [
       "[[2, 2], [4, 49], [51, 74], [76, 99]]"
      ]
     },
     "execution_count": 14,
     "metadata": {},
     "output_type": "execute_result"
    }
   ],
   "source": [
    "lst_append([0,1,3,50,75],0,99)"
   ]
  },
  {
   "cell_type": "markdown",
   "id": "b9aa2b62-e50f-469c-90f2-e9071830e470",
   "metadata": {},
   "source": [
    "**Question 8**\n",
    "Given an array of meeting time intervals where intervals[i] = [starti, endi],\n",
    "determine if a person could attend all meetings.\n",
    "\n",
    "**Example 1:**\n",
    "Input: intervals = [[0,30],[5,10],[15,20]]\n",
    "Output: false"
   ]
  },
  {
   "cell_type": "code",
   "execution_count": 15,
   "id": "81c0bddd-b169-4fdf-9a9e-f4b3179fc922",
   "metadata": {},
   "outputs": [],
   "source": [
    "def attend_all_meetings(arr):\n",
    "    arr.sort()\n",
    "    c=0\n",
    "    for i in range(0,len(arr)-1):\n",
    "        if(arr[i][1]<=arr[i+1][0]):\n",
    "            c=c+1\n",
    "    if(c==len(arr)-1):\n",
    "        return \"True\"\n",
    "    else:\n",
    "        return \"False\""
   ]
  },
  {
   "cell_type": "code",
   "execution_count": 16,
   "id": "ba05270d-f047-4946-8beb-4096507c6dd9",
   "metadata": {},
   "outputs": [
    {
     "data": {
      "text/plain": [
       "'False'"
      ]
     },
     "execution_count": 16,
     "metadata": {},
     "output_type": "execute_result"
    }
   ],
   "source": [
    "attend_all_meetings([[0,30],[15,10],[5,20]])"
   ]
  },
  {
   "cell_type": "markdown",
   "id": "8886a1cc-0f07-45c1-a249-1cbb2625360e",
   "metadata": {},
   "source": [
    "----------------------"
   ]
  },
  {
   "cell_type": "code",
   "execution_count": null,
   "id": "5cc4ef12-8cee-47fb-82ae-c5bf9dfa8b7b",
   "metadata": {},
   "outputs": [],
   "source": []
  }
 ],
 "metadata": {
  "kernelspec": {
   "display_name": "Python 3 (ipykernel)",
   "language": "python",
   "name": "python3"
  },
  "language_info": {
   "codemirror_mode": {
    "name": "ipython",
    "version": 3
   },
   "file_extension": ".py",
   "mimetype": "text/x-python",
   "name": "python",
   "nbconvert_exporter": "python",
   "pygments_lexer": "ipython3",
   "version": "3.10.8"
  }
 },
 "nbformat": 4,
 "nbformat_minor": 5
}
