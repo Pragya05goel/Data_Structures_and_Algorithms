{
 "cells": [
  {
   "cell_type": "markdown",
   "id": "4e0685b3-caef-4af7-b3c5-e6c524b33542",
   "metadata": {},
   "source": [
    "# **ASSIGNMENT**"
   ]
  },
  {
   "cell_type": "markdown",
   "id": "6f70c390-9911-4844-bcca-3209241cdfc4",
   "metadata": {},
   "source": [
    "**Question 1**\n",
    "Given an integer array nums of 2n integers, group these integers into n pairs (a1, b1), (a2, b2),..., (an, bn) such that the sum of min(ai, bi) for all i is maximized. Return the maximized sum.\n",
    "\n",
    "**Example 1:**\n",
    "Input: nums = [1,4,3,2]\n",
    "Output: 4\n",
    "\n",
    "**Explanation:** All possible pairings (ignoring the ordering of elements) are:\n",
    "\n",
    "1. (1, 4), (2, 3) -> min(1, 4) + min(2, 3) = 1 + 2 = 3\n",
    "2. (1, 3), (2, 4) -> min(1, 3) + min(2, 4) = 1 + 2 = 3\n",
    "3. (1, 2), (3, 4) -> min(1, 2) + min(3, 4) = 1 + 3 = 4\n",
    "So the maximum possible sum is 4\n"
   ]
  },
  {
   "cell_type": "code",
   "execution_count": 1,
   "id": "77db35fa-3881-4725-949f-d54df7aadfcb",
   "metadata": {},
   "outputs": [],
   "source": [
    "def arrayPairSum(nums):\n",
    "    nums.sort()  # Sort the array in ascending order\n",
    "    max_sum = 0\n",
    "\n",
    "    for i in range(0, len(nums), 2):\n",
    "        max_sum += min(nums[i], nums[i+1])\n",
    "\n",
    "    return max_sum\n"
   ]
  },
  {
   "cell_type": "code",
   "execution_count": 2,
   "id": "4dd1063c-da69-4acc-96f7-f59520d57331",
   "metadata": {},
   "outputs": [
    {
     "data": {
      "text/plain": [
       "4"
      ]
     },
     "execution_count": 2,
     "metadata": {},
     "output_type": "execute_result"
    }
   ],
   "source": [
    "arrayPairSum([1,4,3,2])"
   ]
  },
  {
   "cell_type": "markdown",
   "id": "18b56836-c620-429c-b12c-2fdd33b49321",
   "metadata": {},
   "source": [
    "**Question 2**\n",
    "Alice has n candies, where the ith candy is of type candyType[i]. Alice noticed that she started to gain weight, so she visited a doctor. \n",
    "\n",
    "The doctor advised Alice to only eat n / 2 of the candies she has (n is always even). Alice likes her candies very much, and she wants to eat the maximum number of different types of candies while still following the doctor's advice. \n",
    "\n",
    "Given the integer array candyType of length n, return the maximum number of different types of candies she can eat if she only eats n / 2 of them.\n",
    "\n",
    "**Example 1:\n",
    "Input: candyType = [1,1,2,2,3,3]\n",
    "Output: 3**\n",
    "\n",
    "Explanation: Alice can only eat 6 / 2 = 3 candies. Since there are only 3 types, she can eat one of each type."
   ]
  },
  {
   "cell_type": "code",
   "execution_count": 3,
   "id": "ead9d956-451e-497f-9d78-ec2f70c84891",
   "metadata": {},
   "outputs": [],
   "source": [
    "def max_candies(arr):\n",
    "    s=set(arr)\n",
    "    n=len(arr)\n",
    "    if(len(s)>=(n/2)):\n",
    "        max_candies=n//2\n",
    "    else:\n",
    "        max_candies=len(s)\n",
    "        \n",
    "    return max_candies    "
   ]
  },
  {
   "cell_type": "code",
   "execution_count": 4,
   "id": "99c2a96a-f154-4bfd-85c2-440bfb376c33",
   "metadata": {},
   "outputs": [
    {
     "data": {
      "text/plain": [
       "4"
      ]
     },
     "execution_count": 4,
     "metadata": {},
     "output_type": "execute_result"
    }
   ],
   "source": [
    "max_candies([1,2,3,4,5,6,6,7])"
   ]
  },
  {
   "cell_type": "code",
   "execution_count": 5,
   "id": "2a1c8a20-a2ef-4819-80c6-e83caa6b67a6",
   "metadata": {},
   "outputs": [
    {
     "data": {
      "text/plain": [
       "2"
      ]
     },
     "execution_count": 5,
     "metadata": {},
     "output_type": "execute_result"
    }
   ],
   "source": [
    "max_candies([1, 1, 1, 1, 2, 2, 2, 2])"
   ]
  },
  {
   "cell_type": "markdown",
   "id": "694432ad-49c8-4e39-b2a2-35f14336d4eb",
   "metadata": {},
   "source": [
    "**Question 3**\n",
    "We define a harmonious array as an array where the difference between its maximum value\n",
    "and its minimum value is exactly 1.\n",
    "\n",
    "Given an integer array nums, return the length of its longest harmonious subsequence\n",
    "among all its possible subsequences.\n",
    "\n",
    "A subsequence of an array is a sequence that can be derived from the array by deleting some or no elements without changing the order of the remaining elements.\n",
    "\n",
    "**Example 1:\n",
    "Input: nums = [1,3,2,2,5,2,3,7]\n",
    "Output: 5**\n",
    "\n",
    "Explanation: The longest harmonious subsequence is [3,2,2,2,3]."
   ]
  },
  {
   "cell_type": "code",
   "execution_count": 6,
   "id": "97d401f6-55e8-4010-81b9-2fb1bdd64cc8",
   "metadata": {},
   "outputs": [],
   "source": [
    "def findLHS(nums):\n",
    "    max_length = 0\n",
    "\n",
    "    for num in nums:\n",
    "        count_num = 0\n",
    "        count_num_plus_one = 0\n",
    "\n",
    "        for n in nums:\n",
    "            if n == num:\n",
    "                count_num += 1\n",
    "            elif n == num + 1:\n",
    "                count_num_plus_one += 1\n",
    "\n",
    "        if count_num_plus_one > 0:\n",
    "            max_length = max(max_length, count_num + count_num_plus_one)\n",
    "\n",
    "    return max_length\n"
   ]
  },
  {
   "cell_type": "code",
   "execution_count": 7,
   "id": "11804c12-b05c-44d2-adac-1733e8bcc8c9",
   "metadata": {},
   "outputs": [
    {
     "data": {
      "text/plain": [
       "6"
      ]
     },
     "execution_count": 7,
     "metadata": {},
     "output_type": "execute_result"
    }
   ],
   "source": [
    "findLHS([1,3,2,2,5,2,4,1,2])"
   ]
  },
  {
   "cell_type": "markdown",
   "id": "a481a9c8-2cb1-4b7a-a623-224912886bb5",
   "metadata": {},
   "source": [
    "**Question 4**\n",
    "You have a long flowerbed in which some of the plots are planted, and some are not.\n",
    "However, flowers cannot be planted in adjacent plots.\n",
    "Given an integer array flowerbed containing 0's and 1's, where 0 means empty and 1 means not empty, and an integer n, return true if n new flowers can be planted in the flowerbed without violating the no-adjacent-flowers rule and false otherwise.\n",
    "\n",
    "**Example 1:\n",
    "Input: flowerbed = [1,0,0,0,1], n = 1\n",
    "Output: true**"
   ]
  },
  {
   "cell_type": "code",
   "execution_count": 8,
   "id": "b87abcca-b43f-4ac0-8ebc-d13dd5869adf",
   "metadata": {},
   "outputs": [],
   "source": [
    "def flower(arr,n):\n",
    "    c=0\n",
    "    for i in range(0,len(arr)-1):\n",
    "        if(arr[i]==0 and arr[i+1]==0):\n",
    "            arr[i+1]=1\n",
    "            c=c+1\n",
    "            \n",
    "    for j in range(0,len(arr)-1):\n",
    "        if(arr[j]==arr[j+1]==1):\n",
    "            c=c-1\n",
    "            \n",
    "    if(c==n):\n",
    "        return True\n",
    "    else:\n",
    "        return False"
   ]
  },
  {
   "cell_type": "code",
   "execution_count": 9,
   "id": "3b5e3949-4ee4-4256-bc5f-5ca9643ff901",
   "metadata": {},
   "outputs": [
    {
     "data": {
      "text/plain": [
       "False"
      ]
     },
     "execution_count": 9,
     "metadata": {},
     "output_type": "execute_result"
    }
   ],
   "source": [
    "flower([1,0,0,0,1,0,1,0,0,1],2)"
   ]
  },
  {
   "cell_type": "code",
   "execution_count": 10,
   "id": "77a667dc-c618-4377-9899-6c43d0dec49f",
   "metadata": {},
   "outputs": [
    {
     "data": {
      "text/plain": [
       "False"
      ]
     },
     "execution_count": 10,
     "metadata": {},
     "output_type": "execute_result"
    }
   ],
   "source": [
    "flower([1,0,0,0,0,1,0,1],2)"
   ]
  },
  {
   "cell_type": "markdown",
   "id": "125cf560-0010-4f1a-8c95-b5032350cd63",
   "metadata": {},
   "source": [
    "**Question 5**\n",
    "Given an integer array nums, find three numbers whose product is maximum and return the maximum product.\n",
    "\n",
    "**Example 1:\n",
    "Input: nums = [1,2,3]\n",
    "Output: 6**"
   ]
  },
  {
   "cell_type": "code",
   "execution_count": 11,
   "id": "96393fa3-ae6a-4890-bada-9f5dfd6a99db",
   "metadata": {},
   "outputs": [],
   "source": [
    "def max_prod(arr):\n",
    "    n=len(arr)\n",
    "    for i in range(0,n):\n",
    "        min_ele=i\n",
    "        for j in range(i+1,n):\n",
    "            if(arr[j]<arr[min_ele]):\n",
    "                min_ele=j \n",
    "                \n",
    "        arr[i],arr[min_ele]=arr[min_ele],arr[i]\n",
    "    \n",
    "    return arr,arr[-1]*arr[-2]*arr[-3]"
   ]
  },
  {
   "cell_type": "code",
   "execution_count": 12,
   "id": "5122b4b5-df63-40f0-bc72-170bbd94eae1",
   "metadata": {},
   "outputs": [
    {
     "data": {
      "text/plain": [
       "([-1, 1, 2, 4, 6], 48)"
      ]
     },
     "execution_count": 12,
     "metadata": {},
     "output_type": "execute_result"
    }
   ],
   "source": [
    "max_prod([1,2,4,-1,6])"
   ]
  },
  {
   "cell_type": "markdown",
   "id": "4faea111-62a0-4f57-b099-e2f1b8bf7fa5",
   "metadata": {},
   "source": [
    "**Question 6**\n",
    "Given an array of integers nums which is sorted in ascending order, and an integer target,\n",
    "write a function to search target in nums. If target exists, then return its index. Otherwise,\n",
    "return -1.\n",
    "\n",
    "You must write an algorithm with O(log n) runtime complexity.\n",
    "\n",
    "**Input: nums = [-1,0,3,5,9,12], target = 9\n",
    "Output: 4**\n",
    "\n",
    "**Explanation:** 9 exists in nums and its index is 4"
   ]
  },
  {
   "cell_type": "code",
   "execution_count": 13,
   "id": "91224c20-c454-4458-a098-dcd4eac01d76",
   "metadata": {},
   "outputs": [],
   "source": [
    "def binary_search(arr,target):\n",
    "    low=0\n",
    "    high=len(arr)-1\n",
    "    \n",
    "    while(low<=high):\n",
    "        mid=low+(high-low)//2\n",
    "        \n",
    "        if(arr[mid]==target):\n",
    "            return mid\n",
    "        elif(arr[mid]<target):\n",
    "            low=mid+1\n",
    "        else:\n",
    "            high=mid-1\n",
    "            \n",
    "    return -1       "
   ]
  },
  {
   "cell_type": "code",
   "execution_count": 14,
   "id": "469dfd1f-17f5-4f5a-bc41-d6a88c26f283",
   "metadata": {},
   "outputs": [
    {
     "data": {
      "text/plain": [
       "-1"
      ]
     },
     "execution_count": 14,
     "metadata": {},
     "output_type": "execute_result"
    }
   ],
   "source": [
    "binary_search([-1,0,3,5,9,12],20)"
   ]
  },
  {
   "cell_type": "markdown",
   "id": "54fa03c1-f3c7-41aa-bfc7-bc3065aa65b4",
   "metadata": {},
   "source": [
    "**Question 7**\n",
    "An array is monotonic if it is either monotone increasing or monotone decreasing.\n",
    "\n",
    "An array nums is monotone increasing if for all i <= j, nums[i] <= nums[j]. An array nums is\n",
    "monotone decreasing if for all i <= j, nums[i] >= nums[j].\n",
    "\n",
    "Given an integer array nums, return true if the given array is monotonic, or false otherwise.\n",
    "\n",
    "**Example 1:\n",
    "Input: nums = [1,2,2,3]\n",
    "Output: true**"
   ]
  },
  {
   "cell_type": "code",
   "execution_count": 15,
   "id": "7991eb59-451b-4682-94af-422413b7ec0f",
   "metadata": {},
   "outputs": [],
   "source": [
    "def monotonic_array(arr):\n",
    "    increasing = True\n",
    "    decreasing = True\n",
    "\n",
    "    for i in range(1, len(arr)):\n",
    "        if arr[i] < arr[i-1]:\n",
    "            increasing = False\n",
    "        if arr[i] > arr[i-1]:\n",
    "            decreasing = False\n",
    "\n",
    "    return increasing or decreasing\n"
   ]
  },
  {
   "cell_type": "code",
   "execution_count": 16,
   "id": "f6ca6efa-18ba-4b13-b70e-698a504e9d6d",
   "metadata": {},
   "outputs": [
    {
     "data": {
      "text/plain": [
       "True"
      ]
     },
     "execution_count": 16,
     "metadata": {},
     "output_type": "execute_result"
    }
   ],
   "source": [
    "monotonic_array([11,2,2,1])"
   ]
  },
  {
   "cell_type": "markdown",
   "id": "607e7e92-2d5a-4dcf-80ad-a82b1abcd137",
   "metadata": {},
   "source": [
    "**Question 8**\n",
    "You are given an integer array nums and an integer k.\n",
    "\n",
    "In one operation, you can choose any index i where 0 <= i < nums.length and change nums[i] to nums[i] + x where x is an integer from the range [-k, k]. You can apply this operation at most once for each index i.\n",
    "\n",
    "The score of nums is the difference between the maximum and minimum elements in nums.\n",
    "\n",
    "Return the minimum score of nums after applying the mentioned operation at most once for each index in it.\n",
    "\n",
    "**Example 1:\n",
    "Input: nums = [1], k = 0\n",
    "Output: 0**\n",
    "\n",
    "**Explanation:** The score is max(nums) - min(nums) = 1 - 1 = 0."
   ]
  },
  {
   "cell_type": "code",
   "execution_count": 17,
   "id": "fe4b1179-75ef-41aa-b077-434802b23be4",
   "metadata": {},
   "outputs": [],
   "source": [
    "def min_score(nums, k):\n",
    "    min_val = float('inf')\n",
    "    max_val = float('-inf')\n",
    "\n",
    "    for num in nums:\n",
    "        min_val = min(min_val, num)\n",
    "        max_val = max(max_val, num)\n",
    "\n",
    "    if k == 0:\n",
    "        return max_val - min_val\n",
    "\n",
    "    score = max_val - min_val\n",
    "\n",
    "    for num in nums:\n",
    "        diff = num - min_val\n",
    "        if diff <= 2 * k:\n",
    "            score = min(score, max_val - (num + k))\n",
    "\n",
    "    return score\n"
   ]
  },
  {
   "cell_type": "code",
   "execution_count": 18,
   "id": "a9a58130-d3f4-4765-9d88-4b9ec7beb07f",
   "metadata": {},
   "outputs": [
    {
     "data": {
      "text/plain": [
       "0"
      ]
     },
     "execution_count": 18,
     "metadata": {},
     "output_type": "execute_result"
    }
   ],
   "source": [
    "min_score([1],0)"
   ]
  },
  {
   "cell_type": "markdown",
   "id": "5f6e1fcb-c849-47d6-8d42-2967bc7cb5b2",
   "metadata": {},
   "source": [
    "-------------------------"
   ]
  },
  {
   "cell_type": "code",
   "execution_count": null,
   "id": "f401913e-be2f-479a-94b4-6810945f13e7",
   "metadata": {},
   "outputs": [],
   "source": []
  }
 ],
 "metadata": {
  "kernelspec": {
   "display_name": "Python 3 (ipykernel)",
   "language": "python",
   "name": "python3"
  },
  "language_info": {
   "codemirror_mode": {
    "name": "ipython",
    "version": 3
   },
   "file_extension": ".py",
   "mimetype": "text/x-python",
   "name": "python",
   "nbconvert_exporter": "python",
   "pygments_lexer": "ipython3",
   "version": "3.10.8"
  }
 },
 "nbformat": 4,
 "nbformat_minor": 5
}
