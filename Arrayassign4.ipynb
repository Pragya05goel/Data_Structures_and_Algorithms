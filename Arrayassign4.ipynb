{
 "cells": [
  {
   "cell_type": "markdown",
   "id": "02341bfa-d1d5-40b8-9f92-ed22461f2bce",
   "metadata": {},
   "source": [
    "# **ASSIGNMENT**"
   ]
  },
  {
   "cell_type": "markdown",
   "id": "4dda390e-6751-40d8-acd3-397b08e1fa89",
   "metadata": {},
   "source": [
    "**Question 1**\n",
    "Given three integer arrays arr1, arr2 and arr3 **sorted** in **strictly increasing** order, return a sorted array of **only** the integers that appeared in **all** three arrays.\n",
    "\n",
    "**Example 1:**\n",
    "\n",
    "Input: arr1 = [1,2,3,4,5], arr2 = [1,2,5,7,9], arr3 = [1,3,4,5,8]\n",
    "\n",
    "Output: [1,5]\n",
    "\n",
    "**Explanation:** Only 1 and 5 appeared in the three arrays.\n"
   ]
  },
  {
   "cell_type": "code",
   "execution_count": 1,
   "id": "0199463b-0843-4358-ae6a-2f26ee75cbe3",
   "metadata": {},
   "outputs": [],
   "source": [
    "def intersection_sorted(arr1, arr2, arr3):\n",
    "    \n",
    "    common = [x for x in arr1 if x in arr2 and x in arr3]\n",
    "    \n",
    "    return sorted(common)\n"
   ]
  },
  {
   "cell_type": "code",
   "execution_count": 2,
   "id": "1b738242-a4f6-4470-bc85-e471a69bb248",
   "metadata": {},
   "outputs": [
    {
     "data": {
      "text/plain": [
       "[2]"
      ]
     },
     "execution_count": 2,
     "metadata": {},
     "output_type": "execute_result"
    }
   ],
   "source": [
    "intersection_sorted([1,2,3],[2,3,4],[2,10])"
   ]
  },
  {
   "cell_type": "markdown",
   "id": "1ddfc366-e017-4ffc-ae15-75eff775127b",
   "metadata": {},
   "source": [
    "**Question 2**\n",
    "\n",
    "Given two **0-indexed** integer arrays nums1 and nums2, return *a list* answer *of size* 2 *where:*\n",
    "\n",
    "- answer[0] is a list of all **distinct** integers in *nums1* which are **not** present in *nums2*.\n",
    "- answer[1] is a list of all **distinct** integers in *nums2* which are **not** present in *nums1*.\n",
    "\n",
    "**Note** that the integers in the lists may be returned in **any** order.\n",
    "\n",
    "**Example 1:**\n",
    "\n",
    "**Input:** nums1 = [1,2,3], nums2 = [2,4,6]\n",
    "\n",
    "**Output:** [[1,3],[4,6]]\n",
    "\n",
    "**Explanation:**\n",
    "\n",
    "For nums1, nums1[1] = 2 is present at index 0 of nums2, whereas nums1[0] = 1 and nums1[2] = 3 are not present in nums2. Therefore, answer[0] = [1,3].\n",
    "\n",
    "For nums2, nums2[0] = 2 is present at index 1 of nums1, whereas nums2[1] = 4 and nums2[2] = 6 are not present in nums2. Therefore, answer[1] = [4,6].\n"
   ]
  },
  {
   "cell_type": "code",
   "execution_count": 3,
   "id": "1caa6715-b061-4763-b6f0-fbec4c2e90ea",
   "metadata": {},
   "outputs": [],
   "source": [
    "def distint_elements_list(arr1,arr2):\n",
    "    \n",
    "    answer_0=[x for x in arr1 if x not in arr2]\n",
    "    answer_1=[x for x in arr2 if x not in arr1]\n",
    "\n",
    "    return [list(set(answer_0)),list(set(answer_1))]"
   ]
  },
  {
   "cell_type": "code",
   "execution_count": 4,
   "id": "cd56112a-888c-4671-9da0-87a9c52d6e06",
   "metadata": {},
   "outputs": [
    {
     "data": {
      "text/plain": [
       "[[1, 3], [4, 6]]"
      ]
     },
     "execution_count": 4,
     "metadata": {},
     "output_type": "execute_result"
    }
   ],
   "source": [
    "distint_elements_list([1,2,3,1],[2,4,6])"
   ]
  },
  {
   "cell_type": "markdown",
   "id": "bba1edc3-d962-419d-ba10-7efd80f0a908",
   "metadata": {},
   "source": [
    "**Question 3**\n",
    "Given a 2D integer array matrix, return *the **transpose** of* matrix.\n",
    "\n",
    "The **transpose** of a matrix is the matrix flipped over its main diagonal, switching the matrix's row and column indices.\n",
    "\n",
    "**Example 1:**\n",
    "\n",
    "Input: matrix = [[1,2,3],[4,5,6],[7,8,9]]\n",
    "\n",
    "Output: [[1,4,7],[2,5,8],[3,6,9]]\n"
   ]
  },
  {
   "cell_type": "code",
   "execution_count": 5,
   "id": "4d09b40d-9869-4c27-b06a-904bc5d511f6",
   "metadata": {},
   "outputs": [],
   "source": [
    "import numpy as np\n",
    "def transpose_2d(arr):\n",
    "    new_arr=np.zeros((len(arr[0]),len(arr)))\n",
    "    for i in range(0,len(arr[0])):\n",
    "        for j in range(0,len(arr)):\n",
    "            new_arr[i][j]=arr[j][i]\n",
    "            \n",
    "    return new_arr       "
   ]
  },
  {
   "cell_type": "code",
   "execution_count": 6,
   "id": "c2208426-398e-4ed7-b960-4030c69f25db",
   "metadata": {},
   "outputs": [
    {
     "data": {
      "text/plain": [
       "array([[1., 4., 7.],\n",
       "       [2., 5., 8.],\n",
       "       [3., 6., 9.]])"
      ]
     },
     "execution_count": 6,
     "metadata": {},
     "output_type": "execute_result"
    }
   ],
   "source": [
    "transpose_2d([[1,2,3],[4,5,6],[7,8,9]])"
   ]
  },
  {
   "cell_type": "markdown",
   "id": "5dcecffd-c6b7-44e8-ab1a-38691d70eb1e",
   "metadata": {},
   "source": [
    "**Question 4**\n",
    "Given an integer array nums of 2n integers, group these integers into n pairs (a1, b1), (a2, b2), ..., (an, bn) such that the sum of min(ai, bi) for all i is **maximized**. Return *the maximized sum*.\n",
    "\n",
    "**Example 1:**\n",
    "\n",
    "Input: nums = [1,4,3,2]\n",
    "\n",
    "Output: 4\n",
    "\n",
    "**Explanation:** All possible pairings (ignoring the ordering of elements) are:\n",
    "\n",
    "1. (1, 4), (2, 3) -> min(1, 4) + min(2, 3) = 1 + 2 = 3\n",
    "\n",
    "2. (1, 3), (2, 4) -> min(1, 3) + min(2, 4) = 1 + 2 = 3\n",
    "\n",
    "3. (1, 2), (3, 4) -> min(1, 2) + min(3, 4) = 1 + 3 = 4\n",
    "\n",
    "So the maximum possible sum is 4.\n"
   ]
  },
  {
   "cell_type": "code",
   "execution_count": 7,
   "id": "774ecfb2-08c4-47df-9c0f-5cff53bbb3ac",
   "metadata": {},
   "outputs": [],
   "source": [
    "def arrayPairSum(nums):\n",
    "    nums.sort()  # Sort the array in ascending order\n",
    "    max_sum = 0\n",
    "\n",
    "    for i in range(0, len(nums), 2):\n",
    "        max_sum += min(nums[i], nums[i+1])\n",
    "\n",
    "    return max_sum"
   ]
  },
  {
   "cell_type": "code",
   "execution_count": 8,
   "id": "b968746b-8b0a-41ae-a899-fa6924e9e36e",
   "metadata": {},
   "outputs": [
    {
     "data": {
      "text/plain": [
       "4"
      ]
     },
     "execution_count": 8,
     "metadata": {},
     "output_type": "execute_result"
    }
   ],
   "source": [
    "arrayPairSum([1,4,2,3])"
   ]
  },
  {
   "cell_type": "markdown",
   "id": "a68d59eb-598c-4159-a0c6-57b98d27df35",
   "metadata": {},
   "source": [
    "**Question 5**\n",
    "You have n coins and you want to build a staircase with these coins. The staircase consists of k rows where the ith row has exactly i coins. The last row of the staircase **may be** incomplete.\n",
    "\n",
    "Given the integer n, return *the number of **complete rows** of the staircase you will build*.\n",
    "\n",
    "**Example 1:**\n",
    "\n",
    "**Input:** n = 5\n",
    "\n",
    "**Output:** 2\n",
    "\n",
    "**Explanation:** Because the 3rd row is incomplete, we return 2."
   ]
  },
  {
   "cell_type": "code",
   "execution_count": 9,
   "id": "2491d2d0-8d5b-4fdd-ad83-e0487f419989",
   "metadata": {},
   "outputs": [],
   "source": [
    "def complete_rows(n):\n",
    "    if n < 1:\n",
    "        return 0\n",
    "    if n==1:\n",
    "        return 1   \n",
    "    \n",
    "    left = 1\n",
    "    right = n\n",
    "    while left <= right:\n",
    "        mid = left + (right - left) // 2\n",
    "        total_coins = (mid * (mid + 1)) // 2  # Formula to calculate total     coins in mid rows\n",
    "        \n",
    "        if total_coins == n:\n",
    "            return mid\n",
    "        \n",
    "        if total_coins > n:\n",
    "            right = mid - 1\n",
    "        else:\n",
    "            left = mid + 1\n",
    "    \n",
    "    return right"
   ]
  },
  {
   "cell_type": "code",
   "execution_count": 10,
   "id": "3aed0319-c2c7-4ad9-96be-5fcd122e616a",
   "metadata": {},
   "outputs": [
    {
     "data": {
      "text/plain": [
       "3"
      ]
     },
     "execution_count": 10,
     "metadata": {},
     "output_type": "execute_result"
    }
   ],
   "source": [
    "complete_rows(8)"
   ]
  },
  {
   "cell_type": "markdown",
   "id": "7197a5c3-7b13-42bb-bf18-6c839aa75e5f",
   "metadata": {},
   "source": [
    "**Question 6**\n",
    "Given an integer array nums sorted in **non-decreasing** order, return *an array of **the squares of each number** sorted in non-decreasing order*.\n",
    "\n",
    "**Example 1:**\n",
    "\n",
    "Input: nums = [-4,-1,0,3,10]\n",
    "\n",
    "Output: [0,1,9,16,100]\n",
    "\n",
    "**Explanation:** After squaring, the array becomes [16,1,0,9,100].\n",
    "After sorting, it becomes [0,1,9,16,100]\n"
   ]
  },
  {
   "cell_type": "code",
   "execution_count": 11,
   "id": "859feba6-2ab9-4e16-87cf-5c5428f1d742",
   "metadata": {},
   "outputs": [],
   "source": [
    "def squares_sorted(arr):\n",
    "    \n",
    "    nums=[x*x for x in arr]\n",
    "    \n",
    "    return sorted(nums)"
   ]
  },
  {
   "cell_type": "code",
   "execution_count": 12,
   "id": "aa4cf0b3-0dfb-41fc-83d6-a9c7c5b9ec78",
   "metadata": {},
   "outputs": [
    {
     "data": {
      "text/plain": [
       "[0, 1, 9, 16, 100]"
      ]
     },
     "execution_count": 12,
     "metadata": {},
     "output_type": "execute_result"
    }
   ],
   "source": [
    "squares_sorted([-4,-1,0,3,10])"
   ]
  },
  {
   "cell_type": "markdown",
   "id": "fbb94f4c-f0ae-47ab-bf41-28b36e8d592b",
   "metadata": {},
   "source": [
    "**Question 7**\n",
    "You are given an m x n matrix M initialized with all 0's and an array of operations ops, where ops[i] = [ai, bi] means M[x][y] should be incremented by one for all 0 <= x < ai and 0 <= y < bi.\n",
    "\n",
    "Count and return *the number of maximum integers in the matrix after performing all the operations*\n",
    "\n",
    "**Example 1:**\n",
    "\n",
    "**Input:** m = 3, n = 3, ops = [[2,2],[3,3]]\n",
    "\n",
    "**Output:** 4\n",
    "\n",
    "**Explanation:** The maximum integer in M is 2, and there are four of it in M. So return 4.\n"
   ]
  },
  {
   "cell_type": "code",
   "execution_count": 13,
   "id": "32da008a-3796-4a0d-8996-e86b3430318d",
   "metadata": {},
   "outputs": [],
   "source": [
    "import numpy as np"
   ]
  },
  {
   "cell_type": "code",
   "execution_count": 14,
   "id": "6ea23245-bb49-4ce5-8fcf-5a20f62ebb9e",
   "metadata": {},
   "outputs": [],
   "source": [
    "def no_of_max_integer(m,n,ops):\n",
    "    arr=np.zeros((m,n))\n",
    "    \n",
    "    for i in range(0,len(ops)):\n",
    "        m1=ops[i][0]\n",
    "        m2=ops[i][1]\n",
    "        \n",
    "        for j in range(0,m1):\n",
    "            for k in range(0,m2):\n",
    "                arr[j][k]=arr[j][k]+1\n",
    "    max_value=arr.max()\n",
    "    c=0\n",
    "    for i in range(0,m):\n",
    "        for j in range(0,n):\n",
    "            if(arr[i][j]==max_value):\n",
    "                c=c+1\n",
    "                \n",
    "    return c           "
   ]
  },
  {
   "cell_type": "code",
   "execution_count": 15,
   "id": "db5c7ab2-957f-4637-a56d-37084bd5b12e",
   "metadata": {},
   "outputs": [
    {
     "data": {
      "text/plain": [
       "4"
      ]
     },
     "execution_count": 15,
     "metadata": {},
     "output_type": "execute_result"
    }
   ],
   "source": [
    "no_of_max_integer(3,3,[[2,2],[3,3]])"
   ]
  },
  {
   "cell_type": "markdown",
   "id": "d4bc4255-ddb3-4b1e-89d5-84e65edfc936",
   "metadata": {},
   "source": [
    "**Question 8**\n",
    "\n",
    "Given the array nums consisting of 2n elements in the form [x1,x2,...,xn,y1,y2,...,yn].\n",
    "\n",
    "*Return the array in the form* [x1,y1,x2,y2,...,xn,yn].\n",
    "\n",
    "**Example 1:**\n",
    "\n",
    "**Input:** nums = [2,5,1,3,4,7], n = 3\n",
    "\n",
    "**Output:** [2,3,5,4,1,7]\n",
    "\n",
    "**Explanation:** Since x1=2, x2=5, x3=1, y1=3, y2=4, y3=7 then the answer is [2,3,5,4,1,7].\n"
   ]
  },
  {
   "cell_type": "code",
   "execution_count": 16,
   "id": "d4f000b4-5b61-414c-b514-63f841df3608",
   "metadata": {},
   "outputs": [],
   "source": [
    "def array_new_form(arr,n):\n",
    "    lst=[]\n",
    "    for i in range(0,n):\n",
    "        lst.append(arr[i])\n",
    "        lst.append(arr[i+n])\n",
    "        \n",
    "    return lst     "
   ]
  },
  {
   "cell_type": "code",
   "execution_count": 17,
   "id": "fdce2a0f-f22f-4130-a5ba-4e6127cf120d",
   "metadata": {},
   "outputs": [
    {
     "data": {
      "text/plain": [
       "[2, 4, 5, 7, 1, 9, 3, 14]"
      ]
     },
     "execution_count": 17,
     "metadata": {},
     "output_type": "execute_result"
    }
   ],
   "source": [
    "array_new_form([2,5,1,3,4,7,9,14],4)"
   ]
  },
  {
   "cell_type": "markdown",
   "id": "0db7ba60-2036-400d-9d01-2bc6669c131d",
   "metadata": {},
   "source": [
    "---------------------------"
   ]
  },
  {
   "cell_type": "code",
   "execution_count": null,
   "id": "16ae8f5b-b0dc-4fd8-ae25-703011fb9ae3",
   "metadata": {},
   "outputs": [],
   "source": []
  }
 ],
 "metadata": {
  "kernelspec": {
   "display_name": "Python 3 (ipykernel)",
   "language": "python",
   "name": "python3"
  },
  "language_info": {
   "codemirror_mode": {
    "name": "ipython",
    "version": 3
   },
   "file_extension": ".py",
   "mimetype": "text/x-python",
   "name": "python",
   "nbconvert_exporter": "python",
   "pygments_lexer": "ipython3",
   "version": "3.10.8"
  }
 },
 "nbformat": 4,
 "nbformat_minor": 5
}
