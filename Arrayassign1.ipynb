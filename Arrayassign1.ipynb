{
 "cells": [
  {
   "cell_type": "markdown",
   "id": "bd347722-4f07-4642-9e61-d2185568cdb1",
   "metadata": {},
   "source": [
    "# **ASSIGNMENT**"
   ]
  },
  {
   "cell_type": "markdown",
   "id": "1de4dcc3-469c-4970-96d7-e0d2b05b3666",
   "metadata": {},
   "source": [
    "**Q1.** Given an array of integers nums and an integer target, return indices of the two numbers such that they add up to target.\n",
    "\n",
    "You may assume that each input would have exactly one solution, and you may not use the same element twice.\n",
    "\n",
    "You can return the answer in any order.\n",
    "\n",
    "**Example:**\n",
    "Input: nums = [2,7,11,15], target = 9\n",
    "Output0 [0,1]\n",
    "\n",
    "**Explanation:** Because nums[0] + nums[1] == 9, we return [0, 1][\n",
    "\n"
   ]
  },
  {
   "cell_type": "code",
   "execution_count": 1,
   "id": "c269061e-a8b8-40e3-878d-5066a453dce4",
   "metadata": {},
   "outputs": [],
   "source": [
    "def index_target(arr,target):\n",
    "    i=0\n",
    "    lst=[]\n",
    "    \n",
    "    for j in range(1,len(arr)):\n",
    "        if(arr[i]+arr[j]==target):\n",
    "            lst.append([i,j])\n",
    "        i=i+1\n",
    "        \n",
    "    if(lst==[]):\n",
    "        return lst\n",
    "    else:\n",
    "        return lst[0]  "
   ]
  },
  {
   "cell_type": "code",
   "execution_count": 2,
   "id": "3775cbfd-1c5e-4260-a813-bf8485e18e31",
   "metadata": {},
   "outputs": [
    {
     "data": {
      "text/plain": [
       "[0, 1]"
      ]
     },
     "execution_count": 2,
     "metadata": {},
     "output_type": "execute_result"
    }
   ],
   "source": [
    "index_target([2,7,11,15],9)"
   ]
  },
  {
   "cell_type": "markdown",
   "id": "e6498394-b229-4890-92d8-5992304a5400",
   "metadata": {},
   "source": [
    "**Q2.** Given an integer array nums and an integer val, remove all occurrences of val in nums in-place. The order of the elements may be changed. Then return the number of elements in nums which are not equal to val.\n",
    "\n",
    "Consider the number of elements in nums which are not equal to val be k, to get accepted, you need to do the following things:\n",
    "\n",
    "- Change the array nums such that the first k elements of nums contain the elements which are not equal to val. The remaining elements of nums are not important as well as the size of nums.\n",
    "- Return k.\n",
    "\n",
    "**Example :**\n",
    "Input: nums = [3,2,2,3], val = 3\n",
    "Output: 2, nums = [2,2,_*,_*]\n",
    "\n",
    "**Explanation:** Your function should return k = 2, with the first two elements of nums being 2. It does not matter what you leave beyond the returned k (hence they are underscores)\n",
    "\n",
    "</aside>"
   ]
  },
  {
   "cell_type": "code",
   "execution_count": 3,
   "id": "0357f3a2-3912-4297-918c-0cdc1d1de084",
   "metadata": {},
   "outputs": [],
   "source": [
    "def occurence_of_val1(arr,val):\n",
    "    k=0\n",
    "    lst=[]\n",
    "    lst1=[]\n",
    "    \n",
    "    for i in range(0,len(arr)):\n",
    "        if(arr[i]==val):\n",
    "            lst.append(\"*\")\n",
    "            k=k+1\n",
    "        else:\n",
    "            lst1.append(arr[i])\n",
    "    \n",
    "    lst1.extend(lst)\n",
    "    \n",
    "    return len(arr)-k,lst1 "
   ]
  },
  {
   "cell_type": "code",
   "execution_count": 4,
   "id": "1d492a0e-9e05-40fa-99f0-0b42b63f8b66",
   "metadata": {},
   "outputs": [
    {
     "data": {
      "text/plain": [
       "(2, [2, 2, '*', '*'])"
      ]
     },
     "execution_count": 4,
     "metadata": {},
     "output_type": "execute_result"
    }
   ],
   "source": [
    "occurence_of_val1([3,2,2,3],3)"
   ]
  },
  {
   "cell_type": "markdown",
   "id": "dfa5b996-1824-48ed-9be9-15af015f4f44",
   "metadata": {},
   "source": [
    "**Q3.** Given a sorted array of distinct integers and a target value, return the index if the target is found. If not, return the index where it would be if it were inserted in order.\n",
    "\n",
    "You must write an algorithm with O(log n) runtime complexity.\n",
    "\n",
    "**Example 1:**\n",
    "Input: nums = [1,3,5,6], target = 5\n",
    "\n",
    "Output: 2"
   ]
  },
  {
   "cell_type": "code",
   "execution_count": 5,
   "id": "7eec5bcf-3e59-449e-b7ab-f0dd4b37ce16",
   "metadata": {},
   "outputs": [],
   "source": [
    "## Apply Binary search because its time complexity is O(logn)"
   ]
  },
  {
   "cell_type": "code",
   "execution_count": 6,
   "id": "c2b2bd33-67cc-4acf-8317-5980acfa97f3",
   "metadata": {},
   "outputs": [],
   "source": [
    "def binary_search(arr,target):\n",
    "    lo=0\n",
    "    hi=len(arr)-1\n",
    "    \n",
    "    while(lo<=hi):\n",
    "        mid=(lo+hi)//2\n",
    "        \n",
    "        if(arr[mid]==target):\n",
    "            return mid\n",
    "        elif(arr[mid]<target):\n",
    "            lo=mid+1\n",
    "        else:\n",
    "            hi=mid-1\n",
    "        \n",
    "    return lo     "
   ]
  },
  {
   "cell_type": "code",
   "execution_count": 7,
   "id": "30daa55f-710c-4916-93ce-6b18bc4127f2",
   "metadata": {},
   "outputs": [
    {
     "data": {
      "text/plain": [
       "4"
      ]
     },
     "execution_count": 7,
     "metadata": {},
     "output_type": "execute_result"
    }
   ],
   "source": [
    "binary_search([1,3,5,6],9)\n"
   ]
  },
  {
   "cell_type": "markdown",
   "id": "6993f0d2-c3af-4071-a128-16294c3c8aa3",
   "metadata": {},
   "source": [
    " **Q4.** You are given a large integer represented as an integer array digits, where each digits[i] is the ith digit of the integer. The digits are ordered from most significant to least significant in left-to-right order. The large integer does not contain any leading 0's.\n",
    "\n",
    "Increment the large integer by one and return the resulting array of digits.\n",
    "\n",
    "**Example 1:**\n",
    "Input: digits = [1,2,3]\n",
    "Output: [1,2,4]\n",
    "\n",
    "**Explanation:** The array represents the integer 123.\n",
    "\n",
    "Incrementing by one gives 123 + 1 = 124.\n",
    "Thus, the result should be [1,2,4]."
   ]
  },
  {
   "cell_type": "code",
   "execution_count": 8,
   "id": "6dd96e8c-c19c-490c-98a2-c4d97df7078e",
   "metadata": {},
   "outputs": [],
   "source": [
    "import math\n",
    "def large_num(arr):\n",
    "    sum_no=0\n",
    "    j=len(arr)-1\n",
    "    \n",
    "    for i in arr:\n",
    "        sum_no=sum_no+i*math.pow(10,j)\n",
    "        j=j-1\n",
    "    \n",
    "    new_no=int(sum_no+1)\n",
    "    lst=[]\n",
    "    while(new_no>0):\n",
    "        rem=new_no%10\n",
    "        lst.append(rem)\n",
    "        new_no=math.trunc(new_no/10)\n",
    "    lst.reverse()\n",
    "    \n",
    "    return lst"
   ]
  },
  {
   "cell_type": "code",
   "execution_count": 9,
   "id": "ebb8b576-9b05-447a-aa34-1c75aa6d4ee1",
   "metadata": {},
   "outputs": [
    {
     "data": {
      "text/plain": [
       "[1, 2, 4]"
      ]
     },
     "execution_count": 9,
     "metadata": {},
     "output_type": "execute_result"
    }
   ],
   "source": [
    "large_num([1,2,3])"
   ]
  },
  {
   "cell_type": "markdown",
   "id": "5312462f-89f3-4702-831a-c3701a07a367",
   "metadata": {},
   "source": [
    "**Q5.** You are given two integer arrays nums1 and nums2, sorted in non-decreasing order, and two integers m and n, representing the number of elements in nums1 and nums2 respectively.\n",
    "\n",
    "Merge nums1 and nums2 into a single array sorted in non-decreasing order.\n",
    "\n",
    "The final sorted array should not be returned by the function, but instead be stored inside the array nums1. To accommodate this, nums1 has a length of m + n, where the first m elements denote the elements that should be merged, and the last n elements are set to 0 and should be ignored. nums2 has a length of n.\n",
    "\n",
    "**Example 1:**\n",
    "Input: nums1 = [1,2,3,0,0,0], m = 3, nums2 = [2,5,6], n = 3\n",
    "Output: [1,2,2,3,5,6]\n",
    "\n",
    "**Explanation:** The arrays we are merging are [1,2,3] and [2,5,6].\n",
    "The result of the merge is [1,2,2,3,5,6] with the underlined elements coming from nums1.\n"
   ]
  },
  {
   "cell_type": "code",
   "execution_count": 10,
   "id": "5107fd59-68cc-4d20-a890-c1b1717ef964",
   "metadata": {},
   "outputs": [],
   "source": [
    "def merge(nums1, m, nums2, n):\n",
    "    p1 = m - 1\n",
    "    p2 = n - 1\n",
    "    p = m + n - 1\n",
    "    \n",
    "    while p1 >= 0 and p2 >= 0:\n",
    "        if (nums1[p1] > nums2[p2]):\n",
    "            nums1[p] = nums1[p1]\n",
    "            p1 -= 1\n",
    "        else:\n",
    "            nums1[p] = nums2[p2]\n",
    "            p2 -= 1\n",
    "        p -= 1\n",
    "    \n",
    "    # Copy remaining elements from nums2 to nums1\n",
    "    nums1[:p2 + 1] = nums2[:p2 + 1]\n",
    "    \n",
    "    return nums1\n"
   ]
  },
  {
   "cell_type": "code",
   "execution_count": 11,
   "id": "9cc5b68b-eedd-4b5e-863c-3328cc172aeb",
   "metadata": {},
   "outputs": [
    {
     "data": {
      "text/plain": [
       "[1, 2, 2, 3, 5, 6]"
      ]
     },
     "execution_count": 11,
     "metadata": {},
     "output_type": "execute_result"
    }
   ],
   "source": [
    "merge([1,2,3,0,0,0],3,[2,5,6],3)"
   ]
  },
  {
   "cell_type": "markdown",
   "id": "a6dddbee-822d-4119-a3ca-7f2f828afaf1",
   "metadata": {},
   "source": [
    " **Q6.** Given an integer array nums, return true if any value appears at least twice in the array, and return false if every element is distinct.\n",
    "\n",
    "**Example 1:**\n",
    "Input: nums = [1,2,3,1]\n",
    "\n",
    "Output: true"
   ]
  },
  {
   "cell_type": "code",
   "execution_count": 12,
   "id": "0a178aa8-a3e7-4abf-9842-4f7c5ff59e7a",
   "metadata": {},
   "outputs": [],
   "source": [
    "import numpy as np\n",
    "def duplicates_found(arr):\n",
    "    hashing_set=np.zeros(max(arr)+1)\n",
    "    \n",
    "    for i in arr:\n",
    "        if(hashing_set[i]==0):\n",
    "            hashing_set[i]=1\n",
    "        else:\n",
    "            hashing_set[i]=hashing_set[i]+1\n",
    "        \n",
    "    for i in hashing_set:\n",
    "        if(i>=2):\n",
    "            return \"true\"\n",
    "        elif(i==1):\n",
    "            return \"false\""
   ]
  },
  {
   "cell_type": "code",
   "execution_count": 13,
   "id": "d2c0891a-2e6a-4f28-94f1-dbac1cbe380a",
   "metadata": {},
   "outputs": [
    {
     "data": {
      "text/plain": [
       "'false'"
      ]
     },
     "execution_count": 13,
     "metadata": {},
     "output_type": "execute_result"
    }
   ],
   "source": [
    "duplicates_found([1,2,3])"
   ]
  },
  {
   "cell_type": "markdown",
   "id": "986f5513-131c-4615-aefd-b1537a61d171",
   "metadata": {},
   "source": [
    "**Q7.** Given an integer array nums, move all 0's to the end of it while maintaining the relative order of the nonzero elements.\n",
    "\n",
    "Note that you must do this in-place without making a copy of the array.\n",
    "\n",
    "**Example 1:**\n",
    "Input: nums = [0,1,0,3,12]\n",
    "Output: [1,3,12,0,0]\n",
    ">"
   ]
  },
  {
   "cell_type": "code",
   "execution_count": 14,
   "id": "21b732c6-6dd9-4cc5-806e-41435d9edd7f",
   "metadata": {},
   "outputs": [],
   "source": [
    "def move_zero_to_end(arr):\n",
    "    \n",
    "    for i in range(0,len(arr)):\n",
    "        if(arr[i]==0):\n",
    "            k=arr[i]\n",
    "            l=arr[len(arr)-1]\n",
    "            j=i\n",
    "            while(j<len(arr)-1):\n",
    "                arr[j]=arr[j+1]\n",
    "                j=j+1\n",
    "            arr[len(arr)-1]=k\n",
    "            \n",
    "    return  arr     "
   ]
  },
  {
   "cell_type": "code",
   "execution_count": 15,
   "id": "fcd0a1ec-9ec8-4540-8b95-feae87c24437",
   "metadata": {},
   "outputs": [
    {
     "data": {
      "text/plain": [
       "[1, 3, 1, 12, 0, 0, 0]"
      ]
     },
     "execution_count": 15,
     "metadata": {},
     "output_type": "execute_result"
    }
   ],
   "source": [
    "move_zero_to_end([0,1,0,3,1,0,12])"
   ]
  },
  {
   "cell_type": "markdown",
   "id": "6f6767ec-85b5-49ab-b2ff-625c1f536ba8",
   "metadata": {},
   "source": [
    "**Q8.** You have a set of integers s, which originally contains all the numbers from 1 to n. Unfortunately, due to some error, one of the numbers in s got duplicated to another number in the set, which results in repetition of one number and loss of another number.\n",
    "\n",
    "You are given an integer array nums representing the data status of this set after the error.\n",
    "\n",
    "Find the number that occurs twice and the number that is missing and return them in the form of an array.\n",
    "\n",
    "**Example 1:**\n",
    "Input: nums = [1,2,2,4]\n",
    "Output: [2,3]\n"
   ]
  },
  {
   "cell_type": "code",
   "execution_count": 16,
   "id": "a26e86e9-04f8-478f-b6f6-b96f8e275d90",
   "metadata": {},
   "outputs": [],
   "source": [
    "def missing_duplicates(arr):\n",
    "    arr.sort()\n",
    "    length=np.max(arr)+1\n",
    "    hashing_set=np.zeros(length)\n",
    "    for i in arr:\n",
    "        if(hashing_set[i]==0):\n",
    "            hashing_set[i]=1\n",
    "        else:\n",
    "            hashing_set[i]=hashing_set[i]+1\n",
    "     \n",
    "    lst=[]\n",
    "    for i in range(1,len(hashing_set)):\n",
    "        if(hashing_set[i]>1):\n",
    "            lst.append(i)\n",
    "        elif(hashing_set[i]==0):\n",
    "             lst.append(i)      \n",
    "    \n",
    "    return lst      "
   ]
  },
  {
   "cell_type": "code",
   "execution_count": 17,
   "id": "7fbc84fa-20e3-4a32-9b55-2115f3e5faca",
   "metadata": {},
   "outputs": [
    {
     "data": {
      "text/plain": [
       "[6, 7]"
      ]
     },
     "execution_count": 17,
     "metadata": {},
     "output_type": "execute_result"
    }
   ],
   "source": [
    "missing_duplicates([1,2,3,4,5,6,6,8])"
   ]
  },
  {
   "cell_type": "markdown",
   "id": "79f216b9-15ff-4c3a-9f90-21ce788970d6",
   "metadata": {},
   "source": [
    "---------------------------------"
   ]
  },
  {
   "cell_type": "code",
   "execution_count": null,
   "id": "a5095c23-7615-43a4-88aa-8f707e20cb50",
   "metadata": {},
   "outputs": [],
   "source": []
  }
 ],
 "metadata": {
  "kernelspec": {
   "display_name": "Python 3 (ipykernel)",
   "language": "python",
   "name": "python3"
  },
  "language_info": {
   "codemirror_mode": {
    "name": "ipython",
    "version": 3
   },
   "file_extension": ".py",
   "mimetype": "text/x-python",
   "name": "python",
   "nbconvert_exporter": "python",
   "pygments_lexer": "ipython3",
   "version": "3.10.8"
  }
 },
 "nbformat": 4,
 "nbformat_minor": 5
}
