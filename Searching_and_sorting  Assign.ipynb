{
 "cells": [
  {
   "cell_type": "markdown",
   "id": "4753c098-2f96-4a71-b8ca-bbfabb03339d",
   "metadata": {},
   "source": [
    "# **ASSIGNMENT**"
   ]
  },
  {
   "cell_type": "markdown",
   "id": "cbcf308e-c835-4b08-810a-837cab3d7ccf",
   "metadata": {},
   "source": [
    "**Q1. Given a 1-indexed array of integers numbers that are already sorted in non-decreasing order, find two numbers such that they add up to a specific target number.**<br>\n",
    "Let these two numbers be numbers[index1] and numbers[index2] where 1 <= index1 < index2 < numbers.length.<br>\n",
    "Return the indices of the two numbers, index1, and index2, added by one as an integer array [index1, index2] of length 2.<br>\n",
    "The tests are generated such that there is exactly one solution. You may **not use the same element twice**.<br>\n",
    "Your solution must use only constant extra space.<br>\n",
    "**Input: numbers = [2,7,11,15], target = 9**<br>\n",
    "**Output: [1,2]**<br>\n",
    "**Explanation: The sum of 2 and 7 is 9. Therefore, index1 = 1, index2 = 2. We return [1, 2].**"
   ]
  },
  {
   "cell_type": "code",
   "execution_count": 1,
   "id": "4a21d928-8ce5-4b03-9447-c4b87a84208a",
   "metadata": {},
   "outputs": [],
   "source": [
    "def find_index_of_target(arr,target):\n",
    "    i=0\n",
    "    j=len(arr)-1\n",
    "    \n",
    "    while(i<j):\n",
    "        if(arr[i]+arr[j]<target):\n",
    "            i=i+1\n",
    "        elif(arr[i]+arr[j]>target):\n",
    "            j=j-1\n",
    "        else:\n",
    "            return [i+1,j+1]\n",
    "        \n",
    "    return [-1,-1]     "
   ]
  },
  {
   "cell_type": "code",
   "execution_count": 2,
   "id": "51b8fe06-2b81-4bde-970c-204603dc56c6",
   "metadata": {},
   "outputs": [
    {
     "data": {
      "text/plain": [
       "[1, 2]"
      ]
     },
     "execution_count": 2,
     "metadata": {},
     "output_type": "execute_result"
    }
   ],
   "source": [
    "find_index_of_target([2,7,11,15], target = 9)"
   ]
  },
  {
   "cell_type": "code",
   "execution_count": 3,
   "id": "d96aaf9f-2ac2-476e-99c4-4f2d4550df62",
   "metadata": {},
   "outputs": [
    {
     "data": {
      "text/plain": [
       "[-1, -1]"
      ]
     },
     "execution_count": 3,
     "metadata": {},
     "output_type": "execute_result"
    }
   ],
   "source": [
    "find_index_of_target([2,11,15], target = 9)"
   ]
  },
  {
   "cell_type": "markdown",
   "id": "6222820c-7016-46c8-af6d-18bcef43cab4",
   "metadata": {},
   "source": [
    "**Q2. Given an array of integer nums sorted in non-decreasing order, find the starting and ending position of a given target value.**<br>\n",
    "If the target is not found in the array, return [-1, -1].<br>\n",
    "You must write an algorithm with O(log n) runtime complexity<br>\n",
    "**Input: nums = [5,7,7,8,8,10], target = 8<br>\n",
    "Output: [3,4]**\n",
    "\n",
    "\n"
   ]
  },
  {
   "cell_type": "code",
   "execution_count": 4,
   "id": "eee81eaa-b46f-45d8-ad3e-e335bdeaccec",
   "metadata": {},
   "outputs": [],
   "source": [
    "def start_end_index_of_ele(arr,target):\n",
    "    def start_index_of_ele(arr,target):\n",
    "        i=0\n",
    "        j=len(arr)-1\n",
    "\n",
    "    \n",
    "        while(i<=j):\n",
    "            mid=i+(j-i)//2\n",
    "        \n",
    "            if(arr[mid]<target):\n",
    "                i=mid+1\n",
    "            else:\n",
    "                j=mid-1\n",
    "            \n",
    "        return i   \n",
    "            \n",
    "    def end_index_of_ele(arr,target):\n",
    "        i=0\n",
    "        j=len(arr)-1\n",
    "\n",
    "        while(i<=j):\n",
    "            mid=i+(j-i)//2\n",
    "        \n",
    "            if(arr[mid]<=target):\n",
    "                i=mid+1\n",
    "            else:\n",
    "                j=mid-1\n",
    "            \n",
    "        return j\n",
    "            \n",
    "            \n",
    "    left_pos=start_index_of_ele(arr,target)\n",
    "    right_pos=end_index_of_ele(arr,target)\n",
    "    \n",
    "    if(left_pos<=right_pos):\n",
    "        return [left_pos,right_pos]\n",
    "    else:\n",
    "        return[-1,-1]\n",
    "    "
   ]
  },
  {
   "cell_type": "code",
   "execution_count": 5,
   "id": "55dc8006-4d38-44b5-881a-67190bdb899a",
   "metadata": {},
   "outputs": [
    {
     "data": {
      "text/plain": [
       "[-1, -1]"
      ]
     },
     "execution_count": 5,
     "metadata": {},
     "output_type": "execute_result"
    }
   ],
   "source": [
    "start_end_index_of_ele([5,7,7,8,8,8,8,9],10)"
   ]
  },
  {
   "cell_type": "markdown",
   "id": "7abefbcd-e165-4c06-8236-d85a4c1bc016",
   "metadata": {},
   "source": [
    "**Q3. A peak element is an element that is strictly greater than its neighbors.<br>\n",
    "Given a 0-indexed integer array nums, find a peak element, and return its index. If the array contains multiple peaks, return the index to any of the peaks.**<br>\n",
    "You may imagine that nums[-1] = nums[n] = -∞. In other words, an element is always considered to be strictly greater than a neighbor that is outside the array.<br>\n",
    "You must write an algorithm that runs in O(log n) time.<br>\n",
    "**Input: nums = [1,2,3,1]<br>\n",
    "Output: 2<br>\n",
    "Explanation: 3 is a peak element and your function should return the index number 2.**<br>\n"
   ]
  },
  {
   "cell_type": "code",
   "execution_count": 6,
   "id": "e97f41dc-da46-4a39-b9b3-5c5451884546",
   "metadata": {},
   "outputs": [],
   "source": [
    "def findPeakElement(nums):\n",
    "    left = 0\n",
    "    right = len(nums) - 1\n",
    "    \n",
    "    while left < right:\n",
    "        mid = left + (right - left) // 2\n",
    "        \n",
    "        if nums[mid] < nums[mid + 1]:\n",
    "            left = mid + 1\n",
    "        else:\n",
    "            right = mid\n",
    "    \n",
    "    return left\n",
    "            "
   ]
  },
  {
   "cell_type": "code",
   "execution_count": 7,
   "id": "eb3ae87e-1408-426a-8237-6caa92738265",
   "metadata": {},
   "outputs": [
    {
     "data": {
      "text/plain": [
       "2"
      ]
     },
     "execution_count": 7,
     "metadata": {},
     "output_type": "execute_result"
    }
   ],
   "source": [
    "findPeakElement([1,2,3,1])"
   ]
  },
  {
   "cell_type": "code",
   "execution_count": 8,
   "id": "8d481ef3-86c3-4346-9e88-8de57ef8e24e",
   "metadata": {},
   "outputs": [
    {
     "data": {
      "text/plain": [
       "5"
      ]
     },
     "execution_count": 8,
     "metadata": {},
     "output_type": "execute_result"
    }
   ],
   "source": [
    "findPeakElement([1,2,1,3,5,6,4])"
   ]
  },
  {
   "cell_type": "code",
   "execution_count": 9,
   "id": "d87ebb6e-7ec6-42a2-9b1b-9fcbb34e4069",
   "metadata": {},
   "outputs": [
    {
     "data": {
      "text/plain": [
       "2"
      ]
     },
     "execution_count": 9,
     "metadata": {},
     "output_type": "execute_result"
    }
   ],
   "source": [
    "findPeakElement([3,1,2])"
   ]
  },
  {
   "cell_type": "markdown",
   "id": "6763a7cf-2ddd-4738-8d32-80cf7baa6df1",
   "metadata": {},
   "source": [
    "**Q4. Given a sorted array of distinct integers and a target value, return the index if the target is found. If not, return the index where it would be if it were inserted in order.**<br>\n",
    "You must write an algorithm with O(log n) runtime complexity.<br>\n",
    "**Input: nums = [1,3,5,6], target = 5<br>\n",
    "Output: 2<br>**\n",
    "**Input: nums = [1,3,5,6], target = 7<br>\n",
    "Output: 4**<br>\n"
   ]
  },
  {
   "cell_type": "code",
   "execution_count": 10,
   "id": "4b7dcdf5-3e5c-4f3e-8a8d-2e4413d13723",
   "metadata": {},
   "outputs": [],
   "source": [
    "def search_target(arr,target):\n",
    "    low=0\n",
    "    high=len(arr)-1\n",
    "    \n",
    "    while(low<=high):\n",
    "        mid=low+((high-low)//2)\n",
    "        \n",
    "        if(arr[mid]==target):\n",
    "            return mid\n",
    "        elif(arr[mid]>target):\n",
    "            high=mid-1\n",
    "        else:\n",
    "            low=mid+1\n",
    "            \n",
    "    return low       "
   ]
  },
  {
   "cell_type": "code",
   "execution_count": 11,
   "id": "041680a5-f759-4f1f-8bd4-e260038448cb",
   "metadata": {},
   "outputs": [
    {
     "data": {
      "text/plain": [
       "4"
      ]
     },
     "execution_count": 11,
     "metadata": {},
     "output_type": "execute_result"
    }
   ],
   "source": [
    "search_target([1,3,5,6], target = 7)"
   ]
  },
  {
   "cell_type": "code",
   "execution_count": 12,
   "id": "f3a82273-7db9-4257-bec7-fe263216a4de",
   "metadata": {},
   "outputs": [
    {
     "data": {
      "text/plain": [
       "0"
      ]
     },
     "execution_count": 12,
     "metadata": {},
     "output_type": "execute_result"
    }
   ],
   "source": [
    "search_target([1,3,5,6], target = 0)"
   ]
  },
  {
   "cell_type": "code",
   "execution_count": 13,
   "id": "5b06c298-278f-4276-bfdb-6a140868bd2c",
   "metadata": {},
   "outputs": [
    {
     "data": {
      "text/plain": [
       "2"
      ]
     },
     "execution_count": 13,
     "metadata": {},
     "output_type": "execute_result"
    }
   ],
   "source": [
    "search_target( [1,3,5,6], target = 5)"
   ]
  },
  {
   "cell_type": "markdown",
   "id": "d850506b-82a8-4970-a7a3-dbdaa59c5f65",
   "metadata": {},
   "source": [
    "**Q5. Find the majority element in the array.**<br> A majority element in an array A[] of size n is an element that appears more than n/2 times (and hence there is at most one such element). <br>\n",
    "**Input: A[]={3, 3, 4, 2, 4, 4, 2, 4, 4}<br>**\n",
    "**Output: 4<br>**\n",
    "Explanation: The frequency of 4 is 5 which is greater than half of the size of the array size. "
   ]
  },
  {
   "cell_type": "code",
   "execution_count": 14,
   "id": "936dd45a-5d2a-4d58-84b8-8857cb117a80",
   "metadata": {},
   "outputs": [],
   "source": [
    "def majority_element(arr):\n",
    "    d={}\n",
    "    \n",
    "    for i in arr:\n",
    "        if i not in d.keys():\n",
    "            d[i]=1\n",
    "        else:\n",
    "            d[i]=d[i]+1\n",
    "            \n",
    "    for i in d.keys():\n",
    "        if(d[i]>(len(arr)//2)):\n",
    "            return i\n",
    "            \n",
    "           "
   ]
  },
  {
   "cell_type": "code",
   "execution_count": 15,
   "id": "2e24d481-5e40-45ee-8cbe-58cab34e9424",
   "metadata": {},
   "outputs": [
    {
     "data": {
      "text/plain": [
       "3"
      ]
     },
     "execution_count": 15,
     "metadata": {},
     "output_type": "execute_result"
    }
   ],
   "source": [
    "majority_element([3, 3, 3, 3, 4, 4, 2])"
   ]
  },
  {
   "cell_type": "markdown",
   "id": "2af840a9-7e9e-4198-82ee-d4ef9aa300d1",
   "metadata": {},
   "source": [
    "**Q6. You are a product manager and currently leading a team to develop a new product. Unfortunately, the latest version of your product fails the quality check. Since each version is developed based on the previous version, all the versions after a bad version are also bad.<br>\n",
    "Suppose you have n versions [1, 2, ..., n] and you want to find out the first bad one, which causes all the following ones to be bad.**<br>\n",
    "You are given an API bool isBadVersion(version) which returns whether the version is bad. Implement a function to find the first bad version.<br> You should minimize the number of calls to the API.<br>\n",
    "**Input: n = 5, bad = 4<br>\n",
    "Output: 4<br>\n",
    "Explanation:<br>\n",
    "call isBadVersion(3) -> false<br>\n",
    "call isBadVersion(5) -> true<br>\n",
    "call isBadVersion(4) -> true<br>\n",
    "Then 4 is the first bad version.**\n"
   ]
  },
  {
   "cell_type": "code",
   "execution_count": 16,
   "id": "31ccf366-9b1c-4262-b0fa-708cd5012ad6",
   "metadata": {},
   "outputs": [],
   "source": [
    "## In this question, its given that isBadVersion(version) function is already given.\n",
    "## The following code works fine on leetcode platform"
   ]
  },
  {
   "cell_type": "code",
   "execution_count": 17,
   "id": "1a646c4d-328c-4f7c-9513-d8e318a66d8f",
   "metadata": {},
   "outputs": [],
   "source": [
    "class Solution:\n",
    "    def firstBadVersion(self, n: int) -> int:\n",
    "\n",
    "        if(n==1):\n",
    "            return 1\n",
    "        else:\n",
    "            low=1\n",
    "            high=n\n",
    "\n",
    "            while(low<=high):\n",
    "                mid=low+(high-low)//2\n",
    "\n",
    "                if(isBadVersion(mid)==True and isBadVersion(mid-1)==False):\n",
    "                    return mid\n",
    "                elif(isBadVersion(mid)==False):\n",
    "                    low=mid+1\n",
    "                else:\n",
    "                    high=mid-1        \n"
   ]
  },
  {
   "cell_type": "markdown",
   "id": "0bd10959-67ab-418a-9014-f0ea9c1e8fb7",
   "metadata": {},
   "source": [
    "**Q7. Given an array of integers, find the inversion of an array.**<br> Formally, two elements a[i] and a[j] form an inversion if a[i] > a[j] and i < j.<br>\n",
    "N=5, arr[] = {2, 4, 1, 3, 5}<br>\n",
    "**Output: 3<br>\n",
    "Explanation: (2,1) (4,1) and (4,3) forms an inversion in an array**\n"
   ]
  },
  {
   "cell_type": "code",
   "execution_count": 18,
   "id": "3dd63613-e1a0-4871-a455-b6e11659d75b",
   "metadata": {},
   "outputs": [],
   "source": [
    "def no_of_inversions(arr):\n",
    "    c=0\n",
    "    for i in range(0,len(arr)):\n",
    "        j=len(arr)-1\n",
    "        while(i<j):\n",
    "            if(arr[i]>arr[j]):\n",
    "                c=c+1\n",
    "            j=j-1\n",
    "                \n",
    "    return c            \n",
    "            "
   ]
  },
  {
   "cell_type": "code",
   "execution_count": 19,
   "id": "52fd2f92-eb1e-4e07-89c9-c6898be0bd53",
   "metadata": {},
   "outputs": [
    {
     "data": {
      "text/plain": [
       "3"
      ]
     },
     "execution_count": 19,
     "metadata": {},
     "output_type": "execute_result"
    }
   ],
   "source": [
    "no_of_inversions([2, 4, 1, 3, 5])"
   ]
  },
  {
   "cell_type": "code",
   "execution_count": 20,
   "id": "7002df88-fa7f-42be-9364-a7353ff8c4fd",
   "metadata": {},
   "outputs": [
    {
     "data": {
      "text/plain": [
       "8"
      ]
     },
     "execution_count": 20,
     "metadata": {},
     "output_type": "execute_result"
    }
   ],
   "source": [
    "no_of_inversions([2, 4, 1, 3, 5,0])"
   ]
  },
  {
   "cell_type": "markdown",
   "id": "83b92056-554b-44c7-8241-4ddc1bf65b31",
   "metadata": {},
   "source": [
    "**Q8. Given three arrays sorted in non-decreasing order, print all common elements in these arrays.**<br>\n",
    "**ar1[] = {1, 5, 10, 20, 40, 80}<br>\n",
    "ar2[] = {6, 7, 20, 80, 100}<br>\n",
    "ar3[] = {3, 4, 15, 20, 30, 70, 80, 120} <br>\n",
    "Output: 20, 80**\n"
   ]
  },
  {
   "cell_type": "code",
   "execution_count": 21,
   "id": "5f048db0-3aff-4fd3-b3ac-a60f131ccb33",
   "metadata": {},
   "outputs": [],
   "source": [
    "def common_in_all_arrays(arr1,arr2,arr3):\n",
    "    set1=set(arr1)\n",
    "    set2=set(arr2)\n",
    "    set3=set(arr3)\n",
    "    \n",
    "    return set1.intersection(set2,set3)\n",
    "    "
   ]
  },
  {
   "cell_type": "code",
   "execution_count": 22,
   "id": "121f1ae1-ad0e-4daa-ae99-aa472d9fa160",
   "metadata": {},
   "outputs": [
    {
     "data": {
      "text/plain": [
       "{20, 80}"
      ]
     },
     "execution_count": 22,
     "metadata": {},
     "output_type": "execute_result"
    }
   ],
   "source": [
    "common_in_all_arrays([1, 5, 10, 20, 40, 80],[6, 7, 20, 80, 100],[3, 4, 15, 20, 30, 70, 80, 120])"
   ]
  },
  {
   "cell_type": "markdown",
   "id": "bd8d1457-bff9-439b-bda4-2d182a09daf7",
   "metadata": {},
   "source": [
    "------------------------"
   ]
  },
  {
   "cell_type": "code",
   "execution_count": null,
   "id": "617f7f21-530c-476e-9286-e273d10c1b6a",
   "metadata": {},
   "outputs": [],
   "source": []
  }
 ],
 "metadata": {
  "kernelspec": {
   "display_name": "Python 3 (ipykernel)",
   "language": "python",
   "name": "python3"
  },
  "language_info": {
   "codemirror_mode": {
    "name": "ipython",
    "version": 3
   },
   "file_extension": ".py",
   "mimetype": "text/x-python",
   "name": "python",
   "nbconvert_exporter": "python",
   "pygments_lexer": "ipython3",
   "version": "3.10.8"
  }
 },
 "nbformat": 4,
 "nbformat_minor": 5
}
