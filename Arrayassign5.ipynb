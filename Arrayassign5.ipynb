{
 "cells": [
  {
   "cell_type": "markdown",
   "id": "cf55d9f0-568c-419c-8519-48fa954c075e",
   "metadata": {},
   "source": [
    "# **ASSIGNMENT**"
   ]
  },
  {
   "cell_type": "markdown",
   "id": "d609ac9d-4f2d-469b-98df-0eebb0accfb4",
   "metadata": {},
   "source": [
    "**Question 1**\n",
    "\n",
    "Convert 1D Array Into 2D Array\n",
    "\n",
    "You are given a **0-indexed** 1-dimensional (1D) integer array original, and two integers, m and n. You are tasked with creating a 2-dimensional (2D) array with  m rows and n columns using **all** the elements from original.\n",
    "\n",
    "The elements from indices 0 to n - 1 (**inclusive**) of original should form the first row of the constructed 2D array, the elements from indices n to 2 * n - 1 (**inclusive**) should form the second row of the constructed 2D array, and so on.\n",
    "\n",
    "Return *an* m x n *2D array constructed according to the above procedure, or an empty 2D array if it is impossible*.\n",
    "\n",
    "**Example 1:**\n",
    "\n",
    "**Input:** original = [1,2,3,4], m = 2, n = 2\n",
    "\n",
    "**Output:** [[1,2],[3,4]]\n",
    "\n",
    "**Explanation:** The constructed 2D array should contain 2 rows and 2 columns.\n",
    "\n",
    "The first group of n=2 elements in original, [1,2], becomes the first row in the constructed 2D array.\n",
    "\n",
    "The second group of n=2 elements in original, [3,4], becomes the second row in the constructed 2D array."
   ]
  },
  {
   "cell_type": "code",
   "execution_count": 1,
   "id": "c01ed16a-678d-4efa-b949-096afb902d29",
   "metadata": {},
   "outputs": [],
   "source": [
    "import numpy as np\n",
    "def convert_to_2d(arr,m,n):\n",
    "    arr_new=np.zeros((m,n))\n",
    "    for i in range(0,len(arr)):\n",
    "        row_index=i//n\n",
    "        column_index=i%n   \n",
    "        arr_new[row_index][column_index]=arr[i]\n",
    "        \n",
    "    return arr_new    "
   ]
  },
  {
   "cell_type": "code",
   "execution_count": 2,
   "id": "e8cd9310-8f0b-4199-82e0-bd95fde7512b",
   "metadata": {},
   "outputs": [
    {
     "data": {
      "text/plain": [
       "array([[1., 2.],\n",
       "       [3., 4.]])"
      ]
     },
     "execution_count": 2,
     "metadata": {},
     "output_type": "execute_result"
    }
   ],
   "source": [
    "convert_to_2d([1,2,3,4], m = 2, n = 2)"
   ]
  },
  {
   "cell_type": "markdown",
   "id": "824560e4-e960-4987-b0f0-733c3b63c861",
   "metadata": {},
   "source": [
    "**Question 2**\n",
    "\n",
    "You have n coins and you want to build a staircase with these coins. The staircase consists of k rows where the ith row has exactly i coins. The last row of the staircase **may be** incomplete.\n",
    "\n",
    "Given the integer n, return *the number of **complete rows** of the staircase you will build*.\n",
    "\n",
    "**Example 1:**\n",
    "\n",
    "**Input:** n = 5\n",
    "\n",
    "**Output:** 2\n",
    "\n",
    "**Explanation:** Because the 3rd row is incomplete, we return 2.\n"
   ]
  },
  {
   "cell_type": "code",
   "execution_count": 3,
   "id": "015407a3-aa69-4058-91eb-b16a17290fd5",
   "metadata": {},
   "outputs": [],
   "source": [
    "def complete_rows(n):\n",
    "    if n < 1:\n",
    "        return 0\n",
    "    if n==1:\n",
    "        return 1   \n",
    "    \n",
    "    left = 1\n",
    "    right = n\n",
    "    while left <= right:\n",
    "        mid = left + (right - left) // 2\n",
    "        total_coins = (mid * (mid + 1)) // 2 \n",
    "        \n",
    "        if total_coins == n:\n",
    "            return mid\n",
    "        \n",
    "        if total_coins > n:\n",
    "            right = mid - 1\n",
    "        else:\n",
    "            left = mid + 1\n",
    "    \n",
    "    return right"
   ]
  },
  {
   "cell_type": "code",
   "execution_count": 4,
   "id": "b79418db-f65b-481d-8251-242b6363c087",
   "metadata": {},
   "outputs": [
    {
     "data": {
      "text/plain": [
       "2"
      ]
     },
     "execution_count": 4,
     "metadata": {},
     "output_type": "execute_result"
    }
   ],
   "source": [
    "complete_rows(5)"
   ]
  },
  {
   "cell_type": "markdown",
   "id": "a5acdfaa-9982-4b1a-bb95-0932f9840133",
   "metadata": {},
   "source": [
    "**Question 3**\n",
    "\n",
    "Given an integer array nums sorted in **non-decreasing** order, return *an array of **the squares of each number** sorted in non-decreasing order*.\n",
    "\n",
    "**Example 1:**\n",
    "\n",
    "**Input:** nums = [-4,-1,0,3,10]\n",
    "\n",
    "**Output:** [0,1,9,16,100]\n",
    "\n",
    "**Explanation:** After squaring, the array becomes [16,1,0,9,100].\n",
    "\n",
    "After sorting, it becomes [0,1,9,16,100].\n"
   ]
  },
  {
   "cell_type": "code",
   "execution_count": 5,
   "id": "5f2d7cc1-e00b-4457-bce6-2c1c7df033db",
   "metadata": {},
   "outputs": [],
   "source": [
    "def sorted_squares(arr):\n",
    "    \n",
    "    arr1=[i*i for i in arr] \n",
    "    \n",
    "    return sorted(arr1)"
   ]
  },
  {
   "cell_type": "code",
   "execution_count": 6,
   "id": "cbb45d1a-0dea-4c71-9937-dff09a83912e",
   "metadata": {},
   "outputs": [
    {
     "data": {
      "text/plain": [
       "[0, 1, 9, 16, 100]"
      ]
     },
     "execution_count": 6,
     "metadata": {},
     "output_type": "execute_result"
    }
   ],
   "source": [
    "sorted_squares([-4,-1,0,3,10])"
   ]
  },
  {
   "cell_type": "markdown",
   "id": "d84a54bc-9830-4819-a1b5-737e6236543c",
   "metadata": {},
   "source": [
    "**Question 4**\n",
    "\n",
    "Given two **0-indexed** integer arrays nums1 and nums2, return *a list* answer *of size* 2 *where:*\n",
    "\n",
    "- answer[0] *is a list of all **distinct** integers in* nums1 *which are **not** present in* nums2*.*\n",
    "- answer[1] *is a list of all **distinct** integers in* nums2 *which are **not** present in* nums1.\n",
    "\n",
    "**Note** that the integers in the lists may be returned in **any** order.\n",
    "\n",
    "**Example 1:**\n",
    "\n",
    "**Input:** nums1 = [1,2,3], nums2 = [2,4,6]\n",
    "\n",
    "**Output:** [[1,3],[4,6]]\n",
    "\n",
    "**Explanation:**\n",
    "\n",
    "For nums1, nums1[1] = 2 is present at index 0 of nums2, whereas nums1[0] = 1 and nums1[2] = 3 are not present in nums2. Therefore, answer[0] = [1,3].\n",
    "\n",
    "For nums2, nums2[0] = 2 is present at index 1 of nums1, whereas nums2[1] = 4 and nums2[2] = 6 are not present in nums2. Therefore, answer[1] = [4,6].\n"
   ]
  },
  {
   "cell_type": "code",
   "execution_count": 7,
   "id": "6fcd3e3c-b4ce-488d-9fb3-a760a7bb5090",
   "metadata": {},
   "outputs": [],
   "source": [
    "def distint_elements_list(arr1,arr2):\n",
    "    \n",
    "    answer_0=[x for x in arr1 if x not in arr2]\n",
    "    answer_1=[x for x in arr2 if x not in arr1]\n",
    "\n",
    "    return [list(set(answer_0)),list(set(answer_1))]"
   ]
  },
  {
   "cell_type": "code",
   "execution_count": 8,
   "id": "c76816d1-f0a6-4018-8089-e7691b26cff4",
   "metadata": {},
   "outputs": [
    {
     "data": {
      "text/plain": [
       "[[1, 3], [4, 6]]"
      ]
     },
     "execution_count": 8,
     "metadata": {},
     "output_type": "execute_result"
    }
   ],
   "source": [
    "distint_elements_list([1,2,3,1],[2,4,6])"
   ]
  },
  {
   "cell_type": "markdown",
   "id": "c44384e7-26a1-4158-89e8-876440a4c16d",
   "metadata": {},
   "source": [
    "**Question 5**\n",
    "\n",
    "Given two integer arrays arr1 and arr2, and the integer d, *return the distance value between the two arrays*.\n",
    "\n",
    "The distance value is defined as the number of elements arr1[i] such that there is not any element arr2[j] where |arr1[i]-arr2[j]| <= d.\n",
    "\n",
    "**Example 1:**\n",
    "\n",
    "**Input:** arr1 = [4,5,8], arr2 = [10,9,1,8], d = 2\n",
    "\n",
    "**Output:** 2\n"
   ]
  },
  {
   "cell_type": "code",
   "execution_count": 9,
   "id": "ecb246da-57a3-47c3-9f11-2c87de85d5a4",
   "metadata": {},
   "outputs": [],
   "source": [
    "def distance_between_arrays(arr1,arr2,d):\n",
    "    i=0\n",
    "    c=0\n",
    "    while(i<len(arr1)):\n",
    "        j=0\n",
    "        while(j<len(arr2)):\n",
    "            if(abs(arr1[i]-arr2[j])<=d):\n",
    "                c=c+1\n",
    "                break\n",
    "            else:\n",
    "                j=j+1\n",
    "        i=i+1\n",
    "    \n",
    "    return (len(arr1)-c)         "
   ]
  },
  {
   "cell_type": "code",
   "execution_count": 10,
   "id": "3cf2ab64-9bf7-4c8c-b9e6-d07a6ed9c586",
   "metadata": {},
   "outputs": [
    {
     "data": {
      "text/plain": [
       "2"
      ]
     },
     "execution_count": 10,
     "metadata": {},
     "output_type": "execute_result"
    }
   ],
   "source": [
    "distance_between_arrays([4,5,8], [10,9,1,8],2)"
   ]
  },
  {
   "cell_type": "code",
   "execution_count": 11,
   "id": "ca442693-76b6-4a21-96af-c69102d03c85",
   "metadata": {},
   "outputs": [
    {
     "data": {
      "text/plain": [
       "1"
      ]
     },
     "execution_count": 11,
     "metadata": {},
     "output_type": "execute_result"
    }
   ],
   "source": [
    "distance_between_arrays([2,1,100,3],[-5,-2,10,-3,7], 6)"
   ]
  },
  {
   "cell_type": "code",
   "execution_count": 12,
   "id": "2c0702a1-1ed2-40aa-92dc-dd246a904894",
   "metadata": {},
   "outputs": [
    {
     "data": {
      "text/plain": [
       "2"
      ]
     },
     "execution_count": 12,
     "metadata": {},
     "output_type": "execute_result"
    }
   ],
   "source": [
    "distance_between_arrays(arr1 = [1,4,2,3], arr2 = [-4,-3,6,10,20,30], d = 3)"
   ]
  },
  {
   "cell_type": "markdown",
   "id": "31afcb0b-b9b9-4665-a95a-091cf7057dda",
   "metadata": {},
   "source": [
    "**Question 6**\n",
    "\n",
    "Given an integer array nums of length n where all the integers of nums are in the range [1, n] and each integer appears **once** or **twice**, return *an array of all the integers that appears **twice***.\n",
    "\n",
    "You must write an algorithm that runs in O(n) time and uses only constant extra space.\n",
    "\n",
    "**Example 1:**\n",
    "\n",
    "**Input:** nums = [4,3,2,7,8,2,3,1]\n",
    "\n",
    "**Output:**\n",
    "\n",
    "[2,3]\n"
   ]
  },
  {
   "cell_type": "code",
   "execution_count": 13,
   "id": "bdae4e81-ab8f-4142-be22-a29f11876494",
   "metadata": {},
   "outputs": [],
   "source": [
    "def findDuplicates(nums):\n",
    "    result = []\n",
    "    \n",
    "    for num in nums:\n",
    "        index = abs(num) - 1\n",
    "        if nums[index] > 0:\n",
    "            nums[index] *= -1\n",
    "        else:\n",
    "            result.append(abs(num))\n",
    "    \n",
    "    return result\n",
    "     "
   ]
  },
  {
   "cell_type": "code",
   "execution_count": 14,
   "id": "edd19188-f4ae-4dad-ad76-4cfeb311d648",
   "metadata": {},
   "outputs": [
    {
     "data": {
      "text/plain": [
       "[2, 3]"
      ]
     },
     "execution_count": 14,
     "metadata": {},
     "output_type": "execute_result"
    }
   ],
   "source": [
    "findDuplicates([4,3,2,7,8,2,3,1])"
   ]
  },
  {
   "cell_type": "markdown",
   "id": "9e3d7a50-2235-4019-9056-27bffc4619e6",
   "metadata": {},
   "source": [
    "**Question 7**\n",
    "\n",
    "Suppose an array of length n sorted in ascending order is **rotated** between 1 and n times. For example, the array nums = [0,1,2,4,5,6,7] might become:\n",
    "\n",
    "- [4,5,6,7,0,1,2] if it was rotated 4 times.\n",
    "- [0,1,2,4,5,6,7] if it was rotated 7 times.\n",
    "\n",
    "Notice that **rotating** an array [a[0], a[1], a[2], ..., a[n-1]] 1 time results in the array [a[n-1], a[0], a[1], a[2], ..., a[n-2]].\n",
    "\n",
    "Given the sorted rotated array nums of **unique** elements, return *the minimum element of this array*.\n",
    "\n",
    "You must write an algorithm that runs in O(log n) time.\n",
    "\n",
    "**Example 1:**\n",
    "\n",
    "**Input:** nums = [3,4,5,1,2]\n",
    "\n",
    "**Output:** 1\n",
    "\n",
    "**Explanation:**\n",
    "\n",
    "The original array was [1,2,3,4,5] rotated 3 times.\n"
   ]
  },
  {
   "cell_type": "code",
   "execution_count": 15,
   "id": "2c674fe2-2260-4f3b-822a-0e7452926ea4",
   "metadata": {},
   "outputs": [],
   "source": [
    "def findMin(nums):\n",
    "    left = 0\n",
    "    right = len(nums) - 1\n",
    "    \n",
    "    while left < right:\n",
    "        mid = (left + right) // 2\n",
    "        \n",
    "        if nums[mid] > nums[right]:\n",
    "            left = mid + 1\n",
    "        else:\n",
    "            right = mid\n",
    "    \n",
    "    return nums[left]\n"
   ]
  },
  {
   "cell_type": "code",
   "execution_count": 16,
   "id": "21f1a26e-b3ef-49f9-af93-935de85e191e",
   "metadata": {},
   "outputs": [
    {
     "data": {
      "text/plain": [
       "1"
      ]
     },
     "execution_count": 16,
     "metadata": {},
     "output_type": "execute_result"
    }
   ],
   "source": [
    "findMin([3,4,5,1,2])"
   ]
  },
  {
   "cell_type": "markdown",
   "id": "2f1743d5-9a0d-4484-b2cd-d3591803ca3a",
   "metadata": {},
   "source": [
    "**Question 8**\n",
    "\n",
    "An integer array original is transformed into a **doubled** array changed by appending **twice the value** of every element in original, and then randomly **shuffling** the resulting array.\n",
    "\n",
    "Given an array changed, return original *if* changed *is a **doubled** array. If* changed *is not a **doubled** array, return an empty array. The elements in* original *may be returned in **any** order*.\n",
    "\n",
    "**Example 1:**\n",
    "\n",
    "**Input:** changed = [1,3,4,2,6,8]\n",
    "\n",
    "**Output:** [1,3,4]\n",
    "\n",
    "**Explanation:** One possible original array could be [1,3,4]:\n",
    "\n",
    "- Twice the value of 1 is 1 * 2 = 2.\n",
    "- Twice the value of 3 is 3 * 2 = 6.\n",
    "- Twice the value of 4 is 4 * 2 = 8.\n",
    "\n",
    "Other original arrays could be [4,3,1] or [3,1,4].\n"
   ]
  },
  {
   "cell_type": "code",
   "execution_count": 17,
   "id": "89b67665-0000-443a-91f9-5810ffef68e5",
   "metadata": {},
   "outputs": [],
   "source": [
    "def findOriginal(arr):\n",
    "\tnumFreq = {}\n",
    "\tfor i in range(0, len(arr)):\n",
    "\t\tif (arr[i] in numFreq):\n",
    "\t\t\tnumFreq[arr[i]] += 1\n",
    "\t\telse:\n",
    "\t\t\tnumFreq[arr[i]] = 1\n",
    "\n",
    "\tarr.sort()\n",
    "\tres = []\n",
    "\n",
    "\tfor i in range(0, len(arr)):\n",
    "\n",
    "\t\tfreq = numFreq[arr[i]]\n",
    "\t\tif (freq > 0):\n",
    "\n",
    "\t\t\tres.append(arr[i])\n",
    "\n",
    "\t\t\tnumFreq[arr[i]] -= 1\n",
    "\n",
    "\t\t\ttwice = 2 * arr[i]\n",
    "\n",
    "\t\t\tnumFreq[twice] -= 1\n",
    "\n",
    "\n",
    "\treturn res"
   ]
  },
  {
   "cell_type": "code",
   "execution_count": 18,
   "id": "efb2ed03-94a4-49ca-a2dc-06c46d578725",
   "metadata": {},
   "outputs": [
    {
     "data": {
      "text/plain": [
       "[0, 0]"
      ]
     },
     "execution_count": 18,
     "metadata": {},
     "output_type": "execute_result"
    }
   ],
   "source": [
    "findOriginal([0,0,0,0])"
   ]
  },
  {
   "cell_type": "markdown",
   "id": "88a5d7e3-8ade-47dc-99ac-f2f805023630",
   "metadata": {},
   "source": [
    "----------------------------------"
   ]
  },
  {
   "cell_type": "code",
   "execution_count": null,
   "id": "b757ef7d-da58-4fe9-9ca3-3e6f60a79d05",
   "metadata": {},
   "outputs": [],
   "source": []
  }
 ],
 "metadata": {
  "kernelspec": {
   "display_name": "Python 3 (ipykernel)",
   "language": "python",
   "name": "python3"
  },
  "language_info": {
   "codemirror_mode": {
    "name": "ipython",
    "version": 3
   },
   "file_extension": ".py",
   "mimetype": "text/x-python",
   "name": "python",
   "nbconvert_exporter": "python",
   "pygments_lexer": "ipython3",
   "version": "3.10.8"
  }
 },
 "nbformat": 4,
 "nbformat_minor": 5
}
