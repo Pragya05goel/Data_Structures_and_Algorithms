{
 "cells": [
  {
   "cell_type": "markdown",
   "id": "cd498347-4bfb-430f-9346-6378175f0ade",
   "metadata": {},
   "source": [
    "# **ASSIGNMENT**"
   ]
  },
  {
   "cell_type": "markdown",
   "id": "26b6e9ca-b6bc-430a-bcb8-9839381e9aad",
   "metadata": {},
   "source": [
    "**Question 1**\n",
    "\n",
    "Given two strings s and t, *determine if they are isomorphic*.\n",
    "\n",
    "Two strings s and t are isomorphic if the characters in s can be replaced to get t.\n",
    "\n",
    "All occurrences of a character must be replaced with another character while preserving the order of characters. No two characters may map to the same character, but a character may map to itself.\n",
    "\n",
    "**Example 1:**\n",
    "\n",
    "**Input:** s = \"egg\", t = \"add\"\n",
    "\n",
    "**Output:** true\n"
   ]
  },
  {
   "cell_type": "code",
   "execution_count": 1,
   "id": "ae73885e-8f59-4e79-a54f-064efe695d19",
   "metadata": {},
   "outputs": [],
   "source": [
    "def is_isomorphic(s, t):\n",
    "    if len(s) != len(t):\n",
    "        return False\n",
    "\n",
    "    char_map = {}\n",
    "    mapped_chars = set()\n",
    "\n",
    "    for i in range(len(s)):\n",
    "        char_s = s[i]\n",
    "        char_t = t[i]\n",
    "\n",
    "        if char_s in char_map:\n",
    "            if char_map[char_s] != char_t:\n",
    "                return False\n",
    "        else:\n",
    "            if char_t in mapped_chars:\n",
    "                return False\n",
    "            char_map[char_s] = char_t\n",
    "            mapped_chars.add(char_t)\n",
    "\n",
    "    return True\n"
   ]
  },
  {
   "cell_type": "code",
   "execution_count": 2,
   "id": "3770df9d-f1f9-4ee2-b143-22aa95c996ce",
   "metadata": {},
   "outputs": [
    {
     "data": {
      "text/plain": [
       "True"
      ]
     },
     "execution_count": 2,
     "metadata": {},
     "output_type": "execute_result"
    }
   ],
   "source": [
    "is_isomorphic(\"egg\",\"add\")"
   ]
  },
  {
   "cell_type": "markdown",
   "id": "71eabcb9-8777-4a9b-835e-9cd51927e626",
   "metadata": {},
   "source": [
    "**Question 2**\n",
    "\n",
    "Given a string num which represents an integer, return true *if* num *is a **strobogrammatic number***.\n",
    "\n",
    "A **strobogrammatic number** is a number that looks the same when rotated 180 degrees (looked at upside down).\n",
    "\n",
    "**Example 1:**\n",
    "\n",
    "**Input:** num = \"69\"\n",
    "\n",
    "**Output:**\n",
    "\n",
    "true\n"
   ]
  },
  {
   "cell_type": "code",
   "execution_count": 3,
   "id": "3fa8275d-6811-4d50-8a7a-cc55c2f836ba",
   "metadata": {},
   "outputs": [],
   "source": [
    "def is_strobogrammatic(num):\n",
    "    strobogrammatic_pairs = {\n",
    "        '0': '0',\n",
    "        '1': '1',\n",
    "        '6': '9',\n",
    "        '8': '8',\n",
    "        '9': '6'\n",
    "    }\n",
    "\n",
    "    left, right = 0, len(num) - 1\n",
    "\n",
    "    while left <= right:\n",
    "        if num[left] not in strobogrammatic_pairs or num[right] not in strobogrammatic_pairs:\n",
    "            return False\n",
    "\n",
    "        if num[left] != strobogrammatic_pairs[num[right]]:\n",
    "            return False\n",
    "\n",
    "        left += 1\n",
    "        right -= 1\n",
    "\n",
    "    return True\n"
   ]
  },
  {
   "cell_type": "code",
   "execution_count": 4,
   "id": "ee04ebab-3c3b-46f0-bed3-56041f9a025c",
   "metadata": {},
   "outputs": [
    {
     "data": {
      "text/plain": [
       "True"
      ]
     },
     "execution_count": 4,
     "metadata": {},
     "output_type": "execute_result"
    }
   ],
   "source": [
    "is_strobogrammatic(\"69\")"
   ]
  },
  {
   "cell_type": "markdown",
   "id": "ecf7179f-b06a-456b-947c-9de2edabb54f",
   "metadata": {},
   "source": [
    "**Question 3**\n",
    "\n",
    "Given two non-negative integers, num1 and num2 represented as string, return *the sum of* num1 *and* num2 *as a string*.\n",
    "\n",
    "You must solve the problem without using any built-in library for handling large integers (such as BigInteger). You must also not convert the inputs to integers directly.\n",
    "\n",
    "**Example 1:**\n",
    "\n",
    "**Input:** num1 = \"11\", num2 = \"123\"\n",
    "\n",
    "**Output:**\n",
    "\n",
    "\"134\"\n"
   ]
  },
  {
   "cell_type": "code",
   "execution_count": 5,
   "id": "77184396-0315-4ff6-a2f1-8b4e5cc17aa4",
   "metadata": {},
   "outputs": [],
   "source": [
    "def add_strings(num1, num2):\n",
    "    result = []\n",
    "    carry = 0\n",
    "    i, j = len(num1) - 1, len(num2) - 1\n",
    "\n",
    "    while i >= 0 or j >= 0 or carry > 0:\n",
    "        digit1 = int(num1[i]) if i >= 0 else 0\n",
    "        digit2 = int(num2[j]) if j >= 0 else 0\n",
    "\n",
    "        total = digit1 + digit2 + carry\n",
    "        carry = total // 10\n",
    "        digit = total % 10\n",
    "\n",
    "        result.append(str(digit))\n",
    "\n",
    "        i -= 1\n",
    "        j -= 1\n",
    "\n",
    "    return ''.join(result[::-1])\n"
   ]
  },
  {
   "cell_type": "code",
   "execution_count": 6,
   "id": "06816c30-2cec-47a7-b628-00fd96bd2a71",
   "metadata": {},
   "outputs": [
    {
     "data": {
      "text/plain": [
       "'134'"
      ]
     },
     "execution_count": 6,
     "metadata": {},
     "output_type": "execute_result"
    }
   ],
   "source": [
    "add_strings(\"11\",\"123\")"
   ]
  },
  {
   "cell_type": "markdown",
   "id": "50082443-c5d2-46d9-9b13-09dbea9865e2",
   "metadata": {},
   "source": [
    " **Question 4**\n",
    "\n",
    "Given a string s, reverse the order of characters in each word within a sentence while still preserving whitespace and initial word order.\n",
    "\n",
    "**Example 1:**\n",
    "\n",
    "**Input:** s = \"Let's take LeetCode contest\"\n",
    "\n",
    "**Output:** \"s'teL ekat edoCteeL tsetnoc\""
   ]
  },
  {
   "cell_type": "code",
   "execution_count": 7,
   "id": "eff164dc-8f36-4ef6-968c-9d3b0ef218a6",
   "metadata": {},
   "outputs": [],
   "source": [
    "def rev_words_str(s):\n",
    "    lst=list(s.split(\" \"))\n",
    "    lst1=[]\n",
    "    \n",
    "    for i in lst:\n",
    "        l1=list(i)\n",
    "        l1=l1[::-1]\n",
    "        string=\"\".join(l1)\n",
    "        lst1.append(string)\n",
    "        \n",
    "    return \" \".join(lst1)  "
   ]
  },
  {
   "cell_type": "code",
   "execution_count": 8,
   "id": "8d645f3d-66e3-4e18-b7a8-86f86e1ca858",
   "metadata": {},
   "outputs": [
    {
     "data": {
      "text/plain": [
       "\"s'teL ekat edoCteeL tsetnoc\""
      ]
     },
     "execution_count": 8,
     "metadata": {},
     "output_type": "execute_result"
    }
   ],
   "source": [
    "rev_words_str(\"Let's take LeetCode contest\")"
   ]
  },
  {
   "cell_type": "code",
   "execution_count": 9,
   "id": "a22b7567-1e72-492a-95fe-d162ab74419f",
   "metadata": {},
   "outputs": [
    {
     "data": {
      "text/plain": [
       "'doG gniD'"
      ]
     },
     "execution_count": 9,
     "metadata": {},
     "output_type": "execute_result"
    }
   ],
   "source": [
    "rev_words_str(\"God Ding\")"
   ]
  },
  {
   "cell_type": "markdown",
   "id": "dfafc3d3-0f31-4fd1-a423-0ea49d3dcb0a",
   "metadata": {},
   "source": [
    "**Question 5**\n",
    "\n",
    "Given a string s and an integer k, reverse the first k characters for every 2k characters counting from the start of the string.\n",
    "\n",
    "If there are fewer than k characters left, reverse all of them. If there are less than 2k but greater than or equal to k characters, then reverse the first k characters and leave the other as original.\n",
    "\n",
    "**Example 1:**\n",
    "\n",
    "**Input:** s = \"abcdefg\", k = 2\n",
    "\n",
    "**Output:**\n",
    "\n",
    "\"bacdfeg\""
   ]
  },
  {
   "cell_type": "code",
   "execution_count": 10,
   "id": "cce753e3-6780-4c99-b754-843bfc6880bb",
   "metadata": {},
   "outputs": [],
   "source": [
    "def reverse_str(s, k):\n",
    "    result = []\n",
    "    for i in range(0, len(s), 2*k):\n",
    "        chunk = s[i:i+k] \n",
    "        reversed_chunk = chunk[::-1] \n",
    "        result.append(reversed_chunk + s[i+k:i+2*k])  \n",
    "    return \"\".join(result)"
   ]
  },
  {
   "cell_type": "code",
   "execution_count": 11,
   "id": "20a6abd4-bd01-4bf3-a0b4-c103eeff9de8",
   "metadata": {},
   "outputs": [
    {
     "data": {
      "text/plain": [
       "'cbad'"
      ]
     },
     "execution_count": 11,
     "metadata": {},
     "output_type": "execute_result"
    }
   ],
   "source": [
    "reverse_str(\"abcd\",3)"
   ]
  },
  {
   "cell_type": "code",
   "execution_count": 12,
   "id": "c0d7347a-a1bc-499e-89a5-2e7e9937071b",
   "metadata": {},
   "outputs": [
    {
     "data": {
      "text/plain": [
       "'bacdfeg'"
      ]
     },
     "execution_count": 12,
     "metadata": {},
     "output_type": "execute_result"
    }
   ],
   "source": [
    "reverse_str(\"abcdefg\",2)"
   ]
  },
  {
   "cell_type": "markdown",
   "id": "d5a3a5fc-72b8-4619-89bc-aca59f24f1a5",
   "metadata": {},
   "source": [
    " **Question 6**\n",
    "\n",
    "Given two strings s and goal, return true *if and only if* s *can become* goal *after some number of **shifts** on* s.\n",
    "\n",
    "A **shift** on s consists of moving the leftmost character of s to the rightmost position.\n",
    "\n",
    "- For example, if s = \"abcde\", then it will be \"bcdea\" after one shift.\n",
    "\n",
    "**Example 1:**\n",
    "\n",
    "**Input:** s = \"abcde\", goal = \"cdeab\"\n",
    "\n",
    "**Output:**\n",
    "\n",
    "true"
   ]
  },
  {
   "cell_type": "code",
   "execution_count": 13,
   "id": "451793ec-4aa1-4e92-9214-857484e44a1a",
   "metadata": {},
   "outputs": [],
   "source": [
    "def shifts_str(s,goal):\n",
    "    if(s==goal):\n",
    "        return True\n",
    "    else:\n",
    "        lst=list(s)\n",
    "        k=0\n",
    "        n=len(s)\n",
    "        while(k<n):\n",
    "            first=lst[0]\n",
    "            for i in range(0,n-1):\n",
    "                lst[i]=lst[i+1]\n",
    "                \n",
    "            lst[n-1]=first\n",
    "            new_str=\"\".join(lst)\n",
    "            \n",
    "            if(new_str==goal):\n",
    "                return True\n",
    "            else:\n",
    "                k=k+1\n",
    "            \n",
    "    return False "
   ]
  },
  {
   "cell_type": "code",
   "execution_count": 14,
   "id": "a0ed3f14-27e9-4fa7-bdfe-425d57002e8c",
   "metadata": {},
   "outputs": [
    {
     "data": {
      "text/plain": [
       "True"
      ]
     },
     "execution_count": 14,
     "metadata": {},
     "output_type": "execute_result"
    }
   ],
   "source": [
    "shifts_str(s = \"abcde\", goal = \"cdeab\")"
   ]
  },
  {
   "cell_type": "code",
   "execution_count": 15,
   "id": "26a0e2e6-c8ac-417e-bb23-89c1a4536248",
   "metadata": {},
   "outputs": [
    {
     "data": {
      "text/plain": [
       "False"
      ]
     },
     "execution_count": 15,
     "metadata": {},
     "output_type": "execute_result"
    }
   ],
   "source": [
    "shifts_str(\"abcd\",\"dcdh\")"
   ]
  },
  {
   "cell_type": "markdown",
   "id": "97387b9e-1cae-4a51-a9c2-4a550ed8653a",
   "metadata": {},
   "source": [
    "**Question 7**\n",
    "\n",
    "Given two strings s and t, return true *if they are equal when both are typed into empty text editors*. '#' means a backspace character.\n",
    "\n",
    "Note that after backspacing an empty text, the text will continue empty.\n",
    "\n",
    "**Example 1:**\n",
    "\n",
    "**Input:** s = \"ab#c\", t = \"ad#c\"\n",
    "\n",
    "**Output:** true\n",
    "\n",
    "**Explanation:**\n",
    "\n",
    "Both s and t become \"ac\"."
   ]
  },
  {
   "cell_type": "code",
   "execution_count": 16,
   "id": "0cd085ab-fa2b-4cf5-994d-50b6b77a2469",
   "metadata": {},
   "outputs": [],
   "source": [
    "def is_str_typed(s,t):\n",
    "    lst1=[]\n",
    "    lst2=[]\n",
    "    for i in s:\n",
    "        if i==\"#\":\n",
    "            if(lst1!=[]):\n",
    "                lst1.pop()\n",
    "        else:\n",
    "            lst1.append(i)\n",
    "            \n",
    "    for j in t:\n",
    "        if(j==\"#\"):\n",
    "            if(lst2!=[]):\n",
    "                lst2.pop()\n",
    "        else:\n",
    "            lst2.append(j)\n",
    "    str1=\"\".join(lst1)\n",
    "    str2=\"\".join(lst2)\n",
    "    \n",
    "    if(str1==str2):\n",
    "        return True\n",
    "    else:\n",
    "        return False"
   ]
  },
  {
   "cell_type": "code",
   "execution_count": 17,
   "id": "4f959d18-c402-46d5-87d3-f05c514f9aa9",
   "metadata": {},
   "outputs": [
    {
     "data": {
      "text/plain": [
       "True"
      ]
     },
     "execution_count": 17,
     "metadata": {},
     "output_type": "execute_result"
    }
   ],
   "source": [
    "is_str_typed(\"ab#c\",\"ad#c\")"
   ]
  },
  {
   "cell_type": "code",
   "execution_count": 18,
   "id": "dec57f50-9678-491a-9bfd-3859c8c03746",
   "metadata": {},
   "outputs": [
    {
     "data": {
      "text/plain": [
       "True"
      ]
     },
     "execution_count": 18,
     "metadata": {},
     "output_type": "execute_result"
    }
   ],
   "source": [
    "is_str_typed(\"ab##\",\"c#d#\")"
   ]
  },
  {
   "cell_type": "code",
   "execution_count": 19,
   "id": "72ab6fab-db21-42b7-bc42-e8b37a5d437d",
   "metadata": {},
   "outputs": [
    {
     "data": {
      "text/plain": [
       "False"
      ]
     },
     "execution_count": 19,
     "metadata": {},
     "output_type": "execute_result"
    }
   ],
   "source": [
    "is_str_typed(\"a#c\",\"b\")"
   ]
  },
  {
   "cell_type": "markdown",
   "id": "e8f8f092-67c7-4afe-834d-8082b996da90",
   "metadata": {},
   "source": [
    " **Question 8**\n",
    "\n",
    "You are given an array coordinates, coordinates[i] = [x, y], where [x, y] represents the coordinate of a point. Check if these points make a straight line in the XY plane.\n",
    "\n",
    "**Example 1:**\n",
    "\n",
    "**Input:** coordinates = [[1,2],[2,3],[3,4],[4,5],[5,6],[6,7]]\n",
    "\n",
    "**Output:** true"
   ]
  },
  {
   "cell_type": "code",
   "execution_count": 20,
   "id": "d2e5e978-193c-495c-a9b8-fdebb5010d3b",
   "metadata": {},
   "outputs": [],
   "source": [
    "def str_line1(arr):\n",
    "    if((arr[1][0]-arr[0][0])!=0):\n",
    "        slope=(arr[1][1]-arr[0][1])/(arr[1][0]-arr[0][0])\n",
    "        intercept=arr[0][1]-(slope*arr[0][0])\n",
    "    \n",
    "    \n",
    "        for i in range(0,len(arr)):\n",
    "            y=slope*arr[i][0]+intercept\n",
    "            if(arr[i][1]==y):\n",
    "                continue\n",
    "            else:\n",
    "                return False\n",
    "\n",
    "    \n",
    "    else:\n",
    "        for i in range(0,len(arr)-1):\n",
    "            if(arr[i][0]==arr[i+1][0]):\n",
    "                continue\n",
    "            else:\n",
    "                return False\n",
    "       \n",
    "    return True"
   ]
  },
  {
   "cell_type": "code",
   "execution_count": 21,
   "id": "35ae45a9-fef5-48eb-9199-621473d2d287",
   "metadata": {},
   "outputs": [
    {
     "data": {
      "text/plain": [
       "True"
      ]
     },
     "execution_count": 21,
     "metadata": {},
     "output_type": "execute_result"
    }
   ],
   "source": [
    "str_line1([[1,2],[2,3],[3,4],[4,5],[5,6],[6,7]])"
   ]
  },
  {
   "cell_type": "code",
   "execution_count": 22,
   "id": "e56f5a54-5149-4891-a4bd-6ce0f9041d0b",
   "metadata": {},
   "outputs": [
    {
     "data": {
      "text/plain": [
       "True"
      ]
     },
     "execution_count": 22,
     "metadata": {},
     "output_type": "execute_result"
    }
   ],
   "source": [
    "str_line1([[2,1],[4,2],[6,3]])"
   ]
  },
  {
   "cell_type": "code",
   "execution_count": 23,
   "id": "0fbd5b95-2748-4511-ab76-401834b97be9",
   "metadata": {},
   "outputs": [
    {
     "data": {
      "text/plain": [
       "True"
      ]
     },
     "execution_count": 23,
     "metadata": {},
     "output_type": "execute_result"
    }
   ],
   "source": [
    "str_line1([[0,0],[0,1],[0,-1]])"
   ]
  },
  {
   "cell_type": "markdown",
   "id": "3ed3f3c7-9fc1-42a6-9760-46c86009d3be",
   "metadata": {},
   "source": [
    "----------------------------"
   ]
  },
  {
   "cell_type": "code",
   "execution_count": null,
   "id": "8acf1961-0a03-4984-bbcf-f09030ef2881",
   "metadata": {},
   "outputs": [],
   "source": []
  }
 ],
 "metadata": {
  "kernelspec": {
   "display_name": "Python 3 (ipykernel)",
   "language": "python",
   "name": "python3"
  },
  "language_info": {
   "codemirror_mode": {
    "name": "ipython",
    "version": 3
   },
   "file_extension": ".py",
   "mimetype": "text/x-python",
   "name": "python",
   "nbconvert_exporter": "python",
   "pygments_lexer": "ipython3",
   "version": "3.10.8"
  }
 },
 "nbformat": 4,
 "nbformat_minor": 5
}
