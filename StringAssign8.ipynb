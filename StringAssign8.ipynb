{
 "cells": [
  {
   "cell_type": "markdown",
   "id": "f0289a85-3502-4f0c-a9cc-fe77684fd70e",
   "metadata": {},
   "source": [
    "# **ASSIGNMENT**"
   ]
  },
  {
   "cell_type": "markdown",
   "id": "1cc678d3-a106-49cd-ab88-6635b5e0a6cd",
   "metadata": {},
   "source": [
    "**Question 1**\n",
    "\n",
    "Given two strings s1 and s2, return *the lowest **ASCII** sum of deleted characters to make two strings equal*.\n",
    "\n",
    "**Example 1:**\n",
    "\n",
    "**Input:** s1 = \"sea\", s2 = \"eat\"\n",
    "\n",
    "**Output:** 231\n",
    "\n",
    "**Explanation:** Deleting \"s\" from \"sea\" adds the ASCII value of \"s\" (115) to the sum.\n",
    "\n",
    "Deleting \"t\" from \"eat\" adds 116 to the sum.\n",
    "\n",
    "At the end, both strings are equal, and 115 + 116 = 231 is the minimum sum possible to achieve this.\n"
   ]
  },
  {
   "cell_type": "code",
   "execution_count": 1,
   "id": "67d2f11e-3ef8-4d69-be59-81b3a0488f6f",
   "metadata": {},
   "outputs": [],
   "source": [
    "def lowest_ascii_sum(s1, s2):\n",
    "    m, n = len(s1), len(s2)\n",
    "    dp = [[0] * (n + 1) for _ in range(m + 1)]\n",
    "\n",
    "    for i in range(m + 1):\n",
    "        dp[i][0] = dp[i - 1][0] + ord(s1[i - 1]) if i > 0 else 0\n",
    "\n",
    "    for j in range(n + 1):\n",
    "        dp[0][j] = dp[0][j - 1] + ord(s2[j - 1]) if j > 0 else 0\n",
    "\n",
    "    for i in range(1, m + 1):\n",
    "        for j in range(1, n + 1):\n",
    "            if s1[i - 1] == s2[j - 1]:\n",
    "                dp[i][j] = dp[i - 1][j - 1]\n",
    "            else:\n",
    "                dp[i][j] = min(dp[i - 1][j] + ord(s1[i - 1]), dp[i][j - 1] + ord(s2[j - 1]))\n",
    "\n",
    "    return dp[m][n]"
   ]
  },
  {
   "cell_type": "code",
   "execution_count": 2,
   "id": "dd41ffda-6223-4c7a-84d7-86a9757f7eff",
   "metadata": {},
   "outputs": [
    {
     "data": {
      "text/plain": [
       "231"
      ]
     },
     "execution_count": 2,
     "metadata": {},
     "output_type": "execute_result"
    }
   ],
   "source": [
    "lowest_ascii_sum( \"sea\", \"eat\")"
   ]
  },
  {
   "cell_type": "markdown",
   "id": "3f3b4e64-d34a-47c8-a697-0a916002c99c",
   "metadata": {},
   "source": [
    "**Question 2**\n",
    "\n",
    "Given a string s containing only three types of characters: '(', ')' and '*', return true *if* s *is **valid***.\n",
    "\n",
    "The following rules define a **valid** string:\n",
    "\n",
    "- Any left parenthesis '(' must have a corresponding right parenthesis ')'.\n",
    "- Any right parenthesis ')' must have a corresponding left parenthesis '('.\n",
    "- Left parenthesis '(' must go before the corresponding right parenthesis ')'.\n",
    "- '*' could be treated as a single right parenthesis ')' or a single left parenthesis '(' or an empty string \"\".\n",
    "\n",
    "**Example 1:**\n",
    "\n",
    "**Input:** s = \"()\"\n",
    "\n",
    "**Output:**\n",
    "\n",
    "true\n"
   ]
  },
  {
   "cell_type": "code",
   "execution_count": 3,
   "id": "9ae11b53-05cf-4b63-9d22-bd57d1fa1f88",
   "metadata": {},
   "outputs": [],
   "source": [
    "def check_valid(s):\n",
    "    stack = []\n",
    "    for c in s:\n",
    "        if c == \"(\":\n",
    "            stack.append(c)\n",
    "        elif c == \")\":\n",
    "            if len(stack) == 0:\n",
    "                return False\n",
    "            else:\n",
    "                stack.pop()\n",
    "        elif c == \"*\":\n",
    "            if len(stack) == 0:\n",
    "                stack.append(c)\n",
    "            else:\n",
    "                if stack[-1] == \"(\":\n",
    "                    stack.pop()\n",
    "                else:\n",
    "                    stack.append(c)\n",
    "\n",
    "    return len(stack) == 0\n"
   ]
  },
  {
   "cell_type": "code",
   "execution_count": 4,
   "id": "70a4f5fa-9121-41de-9b36-a6009b1cb3ff",
   "metadata": {},
   "outputs": [
    {
     "data": {
      "text/plain": [
       "True"
      ]
     },
     "execution_count": 4,
     "metadata": {},
     "output_type": "execute_result"
    }
   ],
   "source": [
    "check_valid(\"()\")"
   ]
  },
  {
   "cell_type": "markdown",
   "id": "a64045c9-f369-4ec1-8bbe-ab4d7eb59aba",
   "metadata": {},
   "source": [
    "**Question 3**\n",
    "\n",
    "Given two strings word1 and word2, return *the minimum number of **steps** required to make* word1 *and* word2 *the same*.\n",
    "\n",
    "In one **step**, you can delete exactly one character in either string.\n",
    "\n",
    "**Example 1:**\n",
    "\n",
    "**Input:** word1 = \"sea\", word2 = \"eat\"\n",
    "\n",
    "**Output:** 2\n",
    "\n",
    "**Explanation:** You need one step to make \"sea\" to \"ea\" and another step to make \"eat\" to \"ea\".\n"
   ]
  },
  {
   "cell_type": "code",
   "execution_count": 5,
   "id": "d703c901-6f4e-422a-84b6-9619599df7b4",
   "metadata": {},
   "outputs": [],
   "source": [
    "def min_steps_to_make_same(word1, word2):\n",
    "    m, n = len(word1), len(word2)\n",
    "    dp = [[0] * (n + 1) for _ in range(m + 1)]\n",
    "\n",
    "    for i in range(m + 1):\n",
    "        dp[i][0] = i\n",
    "\n",
    "    for j in range(n + 1):\n",
    "        dp[0][j] = j\n",
    "\n",
    "    for i in range(1, m + 1):\n",
    "        for j in range(1, n + 1):\n",
    "            if word1[i - 1] == word2[j - 1]:\n",
    "                dp[i][j] = dp[i - 1][j - 1]\n",
    "            else:\n",
    "                dp[i][j] = min(dp[i - 1][j], dp[i][j - 1]) + 1\n",
    "\n",
    "    return dp[m][n]"
   ]
  },
  {
   "cell_type": "code",
   "execution_count": 6,
   "id": "f38fb780-ba27-43f5-88f5-7adb018e39ec",
   "metadata": {},
   "outputs": [
    {
     "data": {
      "text/plain": [
       "2"
      ]
     },
     "execution_count": 6,
     "metadata": {},
     "output_type": "execute_result"
    }
   ],
   "source": [
    "min_steps_to_make_same(\"sea\", \"eat\")"
   ]
  },
  {
   "cell_type": "markdown",
   "id": "0698015c-8212-4555-9a0f-898b1fbc84ae",
   "metadata": {},
   "source": [
    "**Question 4**\n",
    "\n",
    "You need to construct a binary tree from a string consisting of parenthesis and integers.\n",
    "\n",
    "The whole input represents a binary tree. It contains an integer followed by zero, one or two pairs of parenthesis. The integer represents the root's value and a pair of parenthesis contains a child binary tree with the same structure.\n",
    "You always start to construct the **left** child node of the parent first if it exists.\n",
    "\n",
    "**Input:** s = \"4(2(3)(1))(6(5))\"\n",
    "\n",
    "**Output:** [4,2,6,3,1,5]\n"
   ]
  },
  {
   "cell_type": "code",
   "execution_count": 7,
   "id": "67129bbc-07c4-49b6-aadb-9fe02dca572c",
   "metadata": {},
   "outputs": [
    {
     "name": "stdout",
     "output_type": "stream",
     "text": [
      "[4, 2, 3, 1, 6, 5]\n"
     ]
    }
   ],
   "source": [
    "class TreeNode:\n",
    "    def __init__(self, val=0, left=None, right=None):\n",
    "        self.val = val\n",
    "        self.left = left\n",
    "        self.right = right\n",
    "\n",
    "def buildTree(s):\n",
    "    if not s:\n",
    "        return None\n",
    "\n",
    "    opening_index = s.find('(')\n",
    "    if opening_index == -1:\n",
    "        return TreeNode(int(s))\n",
    "\n",
    "    root_val = int(s[:opening_index])\n",
    "    root = TreeNode(root_val)\n",
    "\n",
    "    count = 0\n",
    "    i = opening_index\n",
    "    while i < len(s):\n",
    "        if s[i] == '(':\n",
    "            count += 1\n",
    "        elif s[i] == ')':\n",
    "            count -= 1\n",
    "\n",
    "        if count == 0:\n",
    "            break\n",
    "        i += 1\n",
    "\n",
    "    left_substring = s[opening_index + 1:i]\n",
    "    root.left = buildTree(left_substring)\n",
    "\n",
    "    if i + 1 < len(s):\n",
    "        right_substring = s[i + 2: -1]\n",
    "        root.right = buildTree(right_substring)\n",
    "\n",
    "    return root\n",
    "\n",
    "# Test the function with the provided example\n",
    "s = \"4(2(3)(1))(6(5))\"\n",
    "root = buildTree(s)\n",
    "\n",
    "# Extract the node values in pre-order traversal\n",
    "def preorderTraversal(node):\n",
    "    if node:\n",
    "        nodes.append(node.val)\n",
    "        preorderTraversal(node.left)\n",
    "        preorderTraversal(node.right)\n",
    "\n",
    "nodes = []\n",
    "preorderTraversal(root)\n",
    "print(nodes)\n"
   ]
  },
  {
   "cell_type": "markdown",
   "id": "802d1bda-a1a1-4628-b44f-ae946b53327c",
   "metadata": {},
   "source": [
    "**Question 5**\n",
    "\n",
    "Given an array of characters chars, compress it using the following algorithm:\n",
    "\n",
    "Begin with an empty string s. For each group of **consecutive repeating characters** in chars:\n",
    "\n",
    "- If the group's length is 1, append the character to s.\n",
    "- Otherwise, append the character followed by the group's length.\n",
    "\n",
    "The compressed string s **should not be returned separately**, but instead, be stored **in the input character array chars**. Note that group lengths that are 10 or longer will be split into multiple characters in chars.\n",
    "\n",
    "After you are done **modifying the input array,** return *the new length of the array*.\n",
    "\n",
    "You must write an algorithm that uses only constant extra space.\n",
    "\n",
    "**Example 1:**\n",
    "\n",
    "**Input:** chars = [\"a\",\"a\",\"b\",\"b\",\"c\",\"c\",\"c\"]\n",
    "\n",
    "**Output:** Return 6, and the first 6 characters of the input array should be: [\"a\",\"2\",\"b\",\"2\",\"c\",\"3\"]\n",
    "\n",
    "**Explanation:**\n",
    "\n",
    "The groups are \"aa\", \"bb\", and \"ccc\". This compresses to \"a2b2c3\".\n"
   ]
  },
  {
   "cell_type": "code",
   "execution_count": 8,
   "id": "eb37a607-8116-418c-8998-82263caba5e8",
   "metadata": {},
   "outputs": [],
   "source": [
    "def compress(chars):\n",
    "    read = write = start = 0\n",
    "    n = len(chars)\n",
    "    \n",
    "    while read < n:\n",
    "        if read + 1 == n or chars[read + 1] != chars[read]:\n",
    "            chars[write] = chars[start]\n",
    "            write += 1\n",
    "            \n",
    "            if read > start:\n",
    "                count = read - start + 1\n",
    "                for digit in str(count):\n",
    "                    chars[write] = digit\n",
    "                    write += 1\n",
    "            \n",
    "            start = read + 1\n",
    "        \n",
    "        read += 1\n",
    "    \n",
    "    return write,chars[:write]\n"
   ]
  },
  {
   "cell_type": "code",
   "execution_count": 9,
   "id": "71f67aaa-ceca-45c1-9966-0e03de1e4b04",
   "metadata": {},
   "outputs": [
    {
     "data": {
      "text/plain": [
       "(6, ['a', '2', 'b', '2', 'c', '3'])"
      ]
     },
     "execution_count": 9,
     "metadata": {},
     "output_type": "execute_result"
    }
   ],
   "source": [
    "compress([\"a\",\"a\",\"b\",\"b\",\"c\",\"c\",\"c\"])"
   ]
  },
  {
   "cell_type": "markdown",
   "id": "efd7ce66-ef60-41f3-8099-f6339665412d",
   "metadata": {},
   "source": [
    "**Question 6**\n",
    "\n",
    "Given two strings s and p, return *an array of all the start indices of* p*'s anagrams in* s. You may return the answer in **any order**.\n",
    "\n",
    "An **Anagram** is a word or phrase formed by rearranging the letters of a different word or phrase, typically using all the original letters exactly once.\n",
    "\n",
    "**Example 1:**\n",
    "\n",
    "**Input:** s = \"cbaebabacd\", p = \"abc\"\n",
    "\n",
    "**Output:** [0,6]\n",
    "\n",
    "**Explanation:**\n",
    "\n",
    "The substring with start index = 0 is \"cba\", which is an anagram of \"abc\".\n",
    "\n",
    "The substring with start index = 6 is \"bac\", which is an anagram of \"abc\".\n"
   ]
  },
  {
   "cell_type": "code",
   "execution_count": 10,
   "id": "6df0b5f6-eb0b-4ec3-aff5-412213a541ea",
   "metadata": {},
   "outputs": [],
   "source": [
    "def findAnagrams(s,p):\n",
    "    if len(p)>len(s):\n",
    "        return []\n",
    "    a=[0]*26\n",
    "    b=[]\n",
    "    for i in range(len(p)):\n",
    "        a[ord(p[i])-ord(\"a\")]+=1\n",
    "        a[ord(s[i])-ord(\"a\")]-=1\n",
    "    if a==[0]*26:\n",
    "        b.append(0)\n",
    "    for i in range(len(p),len(s)):\n",
    "        a[ord(s[i])-ord(\"a\")]-=1\n",
    "        a[ord(s[i-len(p)])-ord(\"a\")]+=1\n",
    "        if a==[0]*26:\n",
    "            b.append(i-len(p)+1)\n",
    "    return b\n",
    "\t"
   ]
  },
  {
   "cell_type": "code",
   "execution_count": 11,
   "id": "5d88aa1f-3f18-4b9b-9b98-e622b0cd9452",
   "metadata": {},
   "outputs": [
    {
     "data": {
      "text/plain": [
       "[0, 6]"
      ]
     },
     "execution_count": 11,
     "metadata": {},
     "output_type": "execute_result"
    }
   ],
   "source": [
    "findAnagrams(s = \"cbaebabacd\", p = \"abc\")"
   ]
  },
  {
   "cell_type": "markdown",
   "id": "32e9e940-3fa8-4828-b1b3-3cc1005acc8f",
   "metadata": {},
   "source": [
    "**Question 7**\n",
    "\n",
    "Given an encoded string, return its decoded string.\n",
    "\n",
    "The encoding rule is: k[encoded_string], where the encoded_string inside the square brackets is being repeated exactly k times. Note that k is guaranteed to be a positive integer.\n",
    "\n",
    "You may assume that the input string is always valid; there are no extra white spaces, square brackets are well-formed, etc. Furthermore, you may assume that the original data does not contain any digits and that digits are only for those repeat numbers, k. For example, there will not be input like 3a or 2[4].\n",
    "\n",
    "The test cases are generated so that the length of the output will never exceed 105.\n",
    "\n",
    "**Example 1:**\n",
    "\n",
    "**Input:** s = \"3[a]2[bc]\"\n",
    "\n",
    "**Output:** \"aaabcbc\"\n"
   ]
  },
  {
   "cell_type": "code",
   "execution_count": 12,
   "id": "437f6c4b-0c93-4858-b923-4f5cf448ac54",
   "metadata": {},
   "outputs": [],
   "source": [
    "def decode_string(s):\n",
    "    stack = []\n",
    "    stack.append([\"\", 1])\n",
    "    \n",
    "    num = \"\"\n",
    "    for ch in s:\n",
    "        if ch.isdigit():\n",
    "            num += ch\n",
    "        elif ch == \"[\":\n",
    "            stack.append([\"\", int(num)])\n",
    "            num = \"\"\n",
    "        elif ch == \"]\":\n",
    "            encoded_str, repetition = stack.pop()\n",
    "            decoded_str = encoded_str * repetition\n",
    "            stack[-1][0] += decoded_str\n",
    "        else:\n",
    "            stack[-1][0] += ch\n",
    "    \n",
    "    return stack[0][0]\n"
   ]
  },
  {
   "cell_type": "code",
   "execution_count": 13,
   "id": "99cac6e1-d912-41dc-bb65-306b43b20df6",
   "metadata": {},
   "outputs": [
    {
     "data": {
      "text/plain": [
       "'aaabcbc'"
      ]
     },
     "execution_count": 13,
     "metadata": {},
     "output_type": "execute_result"
    }
   ],
   "source": [
    "decode_string(\"3[a]2[bc]\")"
   ]
  },
  {
   "cell_type": "markdown",
   "id": "a383bae8-93cb-4357-a338-b75d0b1f640b",
   "metadata": {},
   "source": [
    "**Question 8**\n",
    "\n",
    "Given two strings s and goal, return true *if you can swap two letters in* s *so the result is equal to* goal*, otherwise, return* false*.*\n",
    "\n",
    "Swapping letters is defined as taking two indices i and j (0-indexed) such that i != j and swapping the characters at s[i] and s[j].\n",
    "\n",
    "- For example, swapping at indices 0 and 2 in \"abcd\" results in \"cbad\".\n",
    "\n",
    "**Example 1:**\n",
    "\n",
    "**Input:** s = \"ab\", goal = \"ba\"\n",
    "\n",
    "**Output:** true\n",
    "\n",
    "**Explanation:** You can swap s[0] = 'a' and s[1] = 'b' to get \"ba\", which is equal to goal.\n"
   ]
  },
  {
   "cell_type": "code",
   "execution_count": 14,
   "id": "0768907e-56e1-4ff5-ac8e-0391ff586759",
   "metadata": {},
   "outputs": [],
   "source": [
    "def can_swap(s, goal):\n",
    "    if len(s) != len(goal):\n",
    "        return False\n",
    "\n",
    "    seen = set()\n",
    "    for i in range(len(s)):\n",
    "        if s[i] != goal[i]:\n",
    "            if (s[i], i) in seen or (goal[i], i) in seen:\n",
    "                return False\n",
    "            seen.add((s[i], i))\n",
    "            seen.add((goal[i], i))\n",
    "\n",
    "    return True"
   ]
  },
  {
   "cell_type": "code",
   "execution_count": 15,
   "id": "24dfe183-50f7-44f6-9ee0-49edab91951c",
   "metadata": {},
   "outputs": [
    {
     "data": {
      "text/plain": [
       "True"
      ]
     },
     "execution_count": 15,
     "metadata": {},
     "output_type": "execute_result"
    }
   ],
   "source": [
    "can_swap(\"ab\",\"ba\")"
   ]
  },
  {
   "cell_type": "markdown",
   "id": "e9531bac-e714-46bf-80c7-0821d5d0972e",
   "metadata": {},
   "source": [
    "--------------------------------------------"
   ]
  },
  {
   "cell_type": "code",
   "execution_count": null,
   "id": "8b073022-3e9f-4a29-b12a-37484c90642f",
   "metadata": {},
   "outputs": [],
   "source": []
  }
 ],
 "metadata": {
  "kernelspec": {
   "display_name": "Python 3 (ipykernel)",
   "language": "python",
   "name": "python3"
  },
  "language_info": {
   "codemirror_mode": {
    "name": "ipython",
    "version": 3
   },
   "file_extension": ".py",
   "mimetype": "text/x-python",
   "name": "python",
   "nbconvert_exporter": "python",
   "pygments_lexer": "ipython3",
   "version": "3.10.8"
  }
 },
 "nbformat": 4,
 "nbformat_minor": 5
}
